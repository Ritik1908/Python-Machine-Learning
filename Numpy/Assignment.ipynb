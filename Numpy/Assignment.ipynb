{
  "nbformat": 4,
  "nbformat_minor": 0,
  "metadata": {
    "colab": {
      "name": "Ritik Verma - Linspace.ipynb",
      "provenance": []
    },
    "kernelspec": {
      "name": "python3",
      "display_name": "Python 3"
    }
  },
  "cells": [
    {
      "cell_type": "code",
      "metadata": {
        "id": "Js2sPMQG_8Vv",
        "colab_type": "code",
        "outputId": "5bcf40fe-32dc-49d8-9d14-e9cc08550638",
        "colab": {
          "base_uri": "https://localhost:8080/",
          "height": 68
        }
      },
      "source": [
        "# Self Defined Function to create linearly spaced list\n",
        "def linearSpaceFunction(low, high, noOfElements) :\n",
        "    d = (high-low) / (noOfElements-1)\n",
        "    vals = []\n",
        "    for i in range(noOfElements) :\n",
        "        vals.append(round(low, 8))\n",
        "        low = low + d\n",
        "    return vals\n",
        "\n",
        "# To Print Values from function\n",
        "print(linearSpaceFunction(1, 5, 10))\n",
        "\n",
        "import numpy as np\n",
        "\n",
        "# Using linspace to check if my output is right\n",
        "np.linspace(1, 5, 10)"
      ],
      "execution_count": 0,
      "outputs": [
        {
          "output_type": "stream",
          "text": [
            "[1, 1.44444444, 1.88888889, 2.33333333, 2.77777778, 3.22222222, 3.66666667, 4.11111111, 4.55555556, 5.0]\n"
          ],
          "name": "stdout"
        },
        {
          "output_type": "execute_result",
          "data": {
            "text/plain": [
              "array([1.        , 1.44444444, 1.88888889, 2.33333333, 2.77777778,\n",
              "       3.22222222, 3.66666667, 4.11111111, 4.55555556, 5.        ])"
            ]
          },
          "metadata": {
            "tags": []
          },
          "execution_count": 13
        }
      ]
    }
  ]
}