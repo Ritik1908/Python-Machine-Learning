{
  "nbformat": 4,
  "nbformat_minor": 0,
  "metadata": {
    "colab": {
      "name": "Copy of numpy-assignment-4.ipynb",
      "provenance": [],
      "collapsed_sections": []
    },
    "kernelspec": {
      "name": "python3",
      "display_name": "Python 3"
    }
  },
  "cells": [
    {
      "cell_type": "code",
      "metadata": {
        "id": "LYAs5f4MUyqX",
        "colab_type": "code",
        "colab": {}
      },
      "source": [
        "import numpy as np"
      ],
      "execution_count": 0,
      "outputs": []
    },
    {
      "cell_type": "code",
      "metadata": {
        "id": "kith96zaU3v4",
        "colab_type": "code",
        "outputId": "852b6e37-5f89-4738-c0ba-13b675a39fcc",
        "colab": {
          "base_uri": "https://localhost:8080/",
          "height": 85
        }
      },
      "source": [
        "arr1=np.arange(20).reshape(4,5)\n",
        "arr1"
      ],
      "execution_count": 0,
      "outputs": [
        {
          "output_type": "execute_result",
          "data": {
            "text/plain": [
              "array([[ 0,  1,  2,  3,  4],\n",
              "       [ 5,  6,  7,  8,  9],\n",
              "       [10, 11, 12, 13, 14],\n",
              "       [15, 16, 17, 18, 19]])"
            ]
          },
          "metadata": {
            "tags": []
          },
          "execution_count": 2
        }
      ]
    },
    {
      "cell_type": "code",
      "metadata": {
        "id": "hSQuEs7WVpXk",
        "colab_type": "code",
        "outputId": "7ad42771-0d1b-4e88-e96f-ecbdfed0b5bb",
        "colab": {
          "base_uri": "https://localhost:8080/",
          "height": 85
        }
      },
      "source": [
        "# Q1 Write a numpy code to swap col1([0,5,10,15]) with col4([3,8,13,18])\n",
        "# Hint----> Fancy Indexing\n",
        "arr1[:,[3,1,2,0,4]] # Passing the list of the desired column number to have the required array."
      ],
      "execution_count": 0,
      "outputs": [
        {
          "output_type": "execute_result",
          "data": {
            "text/plain": [
              "array([[ 3,  1,  2,  0,  4],\n",
              "       [ 8,  6,  7,  5,  9],\n",
              "       [13, 11, 12, 10, 14],\n",
              "       [18, 16, 17, 15, 19]])"
            ]
          },
          "metadata": {
            "tags": []
          },
          "execution_count": 3
        }
      ]
    },
    {
      "cell_type": "code",
      "metadata": {
        "id": "qzrMoxJSWOEm",
        "colab_type": "code",
        "outputId": "6626e5f3-1614-4ad2-9b67-3a152d4ad33f",
        "colab": {
          "base_uri": "https://localhost:8080/",
          "height": 85
        }
      },
      "source": [
        "# Q2 Write a numpy code to reverse the rows of arr1\n",
        "# The output should be [15, 16, 17, 18, 19] as first row and [ 0,  1,  2,  3,  4] as last row\n",
        "arr1[[i for i in range(arr1.shape[0]-1, -1, -1)]] # To reverse ordering of rows, creating a list with back indexing i.e 3,2,1,0. using range function to take negative steps."
      ],
      "execution_count": 0,
      "outputs": [
        {
          "output_type": "execute_result",
          "data": {
            "text/plain": [
              "array([[15, 16, 17, 18, 19],\n",
              "       [10, 11, 12, 13, 14],\n",
              "       [ 5,  6,  7,  8,  9],\n",
              "       [ 0,  1,  2,  3,  4]])"
            ]
          },
          "metadata": {
            "tags": []
          },
          "execution_count": 4
        }
      ]
    },
    {
      "cell_type": "code",
      "metadata": {
        "id": "CnO3fmc24gNH",
        "colab_type": "code",
        "colab": {}
      },
      "source": [
        ""
      ],
      "execution_count": 0,
      "outputs": []
    },
    {
      "cell_type": "code",
      "metadata": {
        "id": "qU9DW6vQWivF",
        "colab_type": "code",
        "outputId": "09d2b45a-6ae8-483d-cd3d-1c6c4c3df300",
        "colab": {
          "base_uri": "https://localhost:8080/",
          "height": 68
        }
      },
      "source": [
        "arr2=np.array([[1,2,np.nan],[4,5,6],[np.nan,np.nan,9]])\n",
        "arr2"
      ],
      "execution_count": 0,
      "outputs": [
        {
          "output_type": "execute_result",
          "data": {
            "text/plain": [
              "array([[ 1.,  2., nan],\n",
              "       [ 4.,  5.,  6.],\n",
              "       [nan, nan,  9.]])"
            ]
          },
          "metadata": {
            "tags": []
          },
          "execution_count": 5
        }
      ]
    },
    {
      "cell_type": "code",
      "metadata": {
        "id": "V9pLugRlXZCV",
        "colab_type": "code",
        "outputId": "bd9e47dc-c1a4-42cf-8140-623551ab4a81",
        "colab": {
          "base_uri": "https://localhost:8080/",
          "height": 68
        }
      },
      "source": [
        "# Q3 Write a code to replace all the nan(missing values) of arr2 with the mean of arr2\n",
        "arr2[np.isnan(arr2)] = np.nanmean(arr2) # using np.nanmean() since normal mean() function will give nan. Using fancy indexing in arr2 where nan is present\n",
        "arr2"
      ],
      "execution_count": 0,
      "outputs": [
        {
          "output_type": "execute_result",
          "data": {
            "text/plain": [
              "array([[1. , 2. , 4.5],\n",
              "       [4. , 5. , 6. ],\n",
              "       [4.5, 4.5, 9. ]])"
            ]
          },
          "metadata": {
            "tags": []
          },
          "execution_count": 6
        }
      ]
    },
    {
      "cell_type": "code",
      "metadata": {
        "id": "Cfake8885B3i",
        "colab_type": "code",
        "colab": {}
      },
      "source": [
        ""
      ],
      "execution_count": 0,
      "outputs": []
    },
    {
      "cell_type": "code",
      "metadata": {
        "id": "F3tUsOivZ6Wf",
        "colab_type": "code",
        "outputId": "89d24693-b1a5-480a-b3d0-45cd13e2b359",
        "colab": {
          "base_uri": "https://localhost:8080/",
          "height": 102
        }
      },
      "source": [
        "arr3=np.random.randint(low=1,high=100,size=20).reshape(5,4)\n",
        "arr3"
      ],
      "execution_count": 0,
      "outputs": [
        {
          "output_type": "execute_result",
          "data": {
            "text/plain": [
              "array([[82, 90, 14, 55],\n",
              "       [46, 58, 10, 40],\n",
              "       [88, 92, 12, 61],\n",
              "       [84,  2, 76,  8],\n",
              "       [27,  1, 44, 71]])"
            ]
          },
          "metadata": {
            "tags": []
          },
          "execution_count": 7
        }
      ]
    },
    {
      "cell_type": "code",
      "metadata": {
        "id": "HzeC03N6aQpx",
        "colab_type": "code",
        "outputId": "f12a52eb-897f-41ba-cf03-dd952f99f43e",
        "colab": {
          "base_uri": "https://localhost:8080/",
          "height": 34
        }
      },
      "source": [
        "# Q4 Write a code which can fetch all items from arr3 which are either greater than 25 or a multiple of 3\n",
        "arr3[(arr3 > 23) | (arr3 % 3 == 0)] # Using bitwise OR operation in boolean values obtained on the basis of two given condition."
      ],
      "execution_count": 0,
      "outputs": [
        {
          "output_type": "execute_result",
          "data": {
            "text/plain": [
              "array([82, 90, 55, 46, 58, 40, 88, 92, 12, 61, 84, 76, 27, 44, 71])"
            ]
          },
          "metadata": {
            "tags": []
          },
          "execution_count": 8
        }
      ]
    },
    {
      "cell_type": "code",
      "metadata": {
        "id": "PxcxU2ACa9Ri",
        "colab_type": "code",
        "colab": {}
      },
      "source": [
        "# Q5 Write a code to find the 10th, 25th, 50th(median) percentile of arr3\n",
        "# Percentiles are a very important concept in Statistics. If you don't know about it refer the video below\n",
        "# https://www.youtube.com/watch?v=Snf6Wpn-L4c\n",
        "# Hint: to solve this function google np.percentile()"
      ],
      "execution_count": 0,
      "outputs": []
    },
    {
      "cell_type": "code",
      "metadata": {
        "id": "_8moTHWYcDCt",
        "colab_type": "code",
        "outputId": "3656798b-054f-4e58-9533-45c1b937346d",
        "colab": {
          "base_uri": "https://localhost:8080/",
          "height": 68
        }
      },
      "source": [
        "# In np.percentile() function we pass np array and the nth percentile number.\n",
        "print(\"10th percentile : \" + str(np.percentile(arr3, 10)))\n",
        "print(\"25th percentile : \" + str(np.percentile(arr3, 25)))\n",
        "print(\"50th percentile : \" + str(np.percentile(arr3, 50)))"
      ],
      "execution_count": 0,
      "outputs": [
        {
          "output_type": "stream",
          "text": [
            "10th percentile : 7.4\n",
            "25th percentile : 13.5\n",
            "50th percentile : 50.5\n"
          ],
          "name": "stdout"
        }
      ]
    }
  ]
}