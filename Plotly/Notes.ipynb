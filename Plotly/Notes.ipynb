{
 "cells": [
  {
   "cell_type": "markdown",
   "metadata": {},
   "source": [
    "# Installing Plotly\n",
    "\n",
    "<p>Use the Conda install plotly command. Visit the following link<Br>\n",
    "    <a href=\"https://anaconda.org/plotly/plotly\">https://anaconda.org/plotly/plotly</a></p>"
   ]
  },
  {
   "cell_type": "markdown",
   "metadata": {},
   "source": [
    "# Introduction to Plotly\n",
    "\n",
    "<p>\n",
    "    1. Until now we did visualisations using Matplotlib, Seaborn and Pandas. All of them produce\n",
    "    static image files.<br><br>\n",
    "    2. Plotly is company based out in Canada famous for it's products like Plotly and Dash<br><br>\n",
    "    3. Plotly creates interactive visualisations in the form of HTML files<br><br>\n",
    "    4. Drawback- can't work with a live data source<br><br>\n",
    "    5. Dash is used to create live data based dashboards.\n",
    "</p>"
   ]
  },
  {
   "cell_type": "code",
   "execution_count": 1,
   "metadata": {},
   "outputs": [],
   "source": [
    "import numpy as np\n",
    "import pandas as pd\n",
    "import plotly.offline as pyo\n",
    "import plotly.graph_objs as go"
   ]
  },
  {
   "cell_type": "code",
   "execution_count": 3,
   "metadata": {},
   "outputs": [
    {
     "data": {
      "text/html": [
       "<div>\n",
       "<style scoped>\n",
       "    .dataframe tbody tr th:only-of-type {\n",
       "        vertical-align: middle;\n",
       "    }\n",
       "\n",
       "    .dataframe tbody tr th {\n",
       "        vertical-align: top;\n",
       "    }\n",
       "\n",
       "    .dataframe thead th {\n",
       "        text-align: right;\n",
       "    }\n",
       "</style>\n",
       "<table border=\"1\" class=\"dataframe\">\n",
       "  <thead>\n",
       "    <tr style=\"text-align: right;\">\n",
       "      <th></th>\n",
       "      <th>match_id</th>\n",
       "      <th>inning</th>\n",
       "      <th>batting_team</th>\n",
       "      <th>bowling_team</th>\n",
       "      <th>over</th>\n",
       "      <th>ball</th>\n",
       "      <th>batsman</th>\n",
       "      <th>non_striker</th>\n",
       "      <th>bowler</th>\n",
       "      <th>is_super_over</th>\n",
       "      <th>...</th>\n",
       "      <th>result</th>\n",
       "      <th>dl_applied</th>\n",
       "      <th>winner</th>\n",
       "      <th>win_by_runs</th>\n",
       "      <th>win_by_wickets</th>\n",
       "      <th>player_of_match</th>\n",
       "      <th>venue</th>\n",
       "      <th>umpire1</th>\n",
       "      <th>umpire2</th>\n",
       "      <th>umpire3</th>\n",
       "    </tr>\n",
       "  </thead>\n",
       "  <tbody>\n",
       "    <tr>\n",
       "      <th>0</th>\n",
       "      <td>1</td>\n",
       "      <td>1</td>\n",
       "      <td>Sunrisers Hyderabad</td>\n",
       "      <td>Royal Challengers Bangalore</td>\n",
       "      <td>1</td>\n",
       "      <td>1</td>\n",
       "      <td>DA Warner</td>\n",
       "      <td>S Dhawan</td>\n",
       "      <td>TS Mills</td>\n",
       "      <td>0</td>\n",
       "      <td>...</td>\n",
       "      <td>normal</td>\n",
       "      <td>0</td>\n",
       "      <td>Sunrisers Hyderabad</td>\n",
       "      <td>35</td>\n",
       "      <td>0</td>\n",
       "      <td>Yuvraj Singh</td>\n",
       "      <td>Rajiv Gandhi International Stadium, Uppal</td>\n",
       "      <td>AY Dandekar</td>\n",
       "      <td>NJ Llong</td>\n",
       "      <td>NaN</td>\n",
       "    </tr>\n",
       "    <tr>\n",
       "      <th>1</th>\n",
       "      <td>1</td>\n",
       "      <td>1</td>\n",
       "      <td>Sunrisers Hyderabad</td>\n",
       "      <td>Royal Challengers Bangalore</td>\n",
       "      <td>1</td>\n",
       "      <td>2</td>\n",
       "      <td>DA Warner</td>\n",
       "      <td>S Dhawan</td>\n",
       "      <td>TS Mills</td>\n",
       "      <td>0</td>\n",
       "      <td>...</td>\n",
       "      <td>normal</td>\n",
       "      <td>0</td>\n",
       "      <td>Sunrisers Hyderabad</td>\n",
       "      <td>35</td>\n",
       "      <td>0</td>\n",
       "      <td>Yuvraj Singh</td>\n",
       "      <td>Rajiv Gandhi International Stadium, Uppal</td>\n",
       "      <td>AY Dandekar</td>\n",
       "      <td>NJ Llong</td>\n",
       "      <td>NaN</td>\n",
       "    </tr>\n",
       "    <tr>\n",
       "      <th>2</th>\n",
       "      <td>1</td>\n",
       "      <td>1</td>\n",
       "      <td>Sunrisers Hyderabad</td>\n",
       "      <td>Royal Challengers Bangalore</td>\n",
       "      <td>1</td>\n",
       "      <td>3</td>\n",
       "      <td>DA Warner</td>\n",
       "      <td>S Dhawan</td>\n",
       "      <td>TS Mills</td>\n",
       "      <td>0</td>\n",
       "      <td>...</td>\n",
       "      <td>normal</td>\n",
       "      <td>0</td>\n",
       "      <td>Sunrisers Hyderabad</td>\n",
       "      <td>35</td>\n",
       "      <td>0</td>\n",
       "      <td>Yuvraj Singh</td>\n",
       "      <td>Rajiv Gandhi International Stadium, Uppal</td>\n",
       "      <td>AY Dandekar</td>\n",
       "      <td>NJ Llong</td>\n",
       "      <td>NaN</td>\n",
       "    </tr>\n",
       "    <tr>\n",
       "      <th>3</th>\n",
       "      <td>1</td>\n",
       "      <td>1</td>\n",
       "      <td>Sunrisers Hyderabad</td>\n",
       "      <td>Royal Challengers Bangalore</td>\n",
       "      <td>1</td>\n",
       "      <td>4</td>\n",
       "      <td>DA Warner</td>\n",
       "      <td>S Dhawan</td>\n",
       "      <td>TS Mills</td>\n",
       "      <td>0</td>\n",
       "      <td>...</td>\n",
       "      <td>normal</td>\n",
       "      <td>0</td>\n",
       "      <td>Sunrisers Hyderabad</td>\n",
       "      <td>35</td>\n",
       "      <td>0</td>\n",
       "      <td>Yuvraj Singh</td>\n",
       "      <td>Rajiv Gandhi International Stadium, Uppal</td>\n",
       "      <td>AY Dandekar</td>\n",
       "      <td>NJ Llong</td>\n",
       "      <td>NaN</td>\n",
       "    </tr>\n",
       "    <tr>\n",
       "      <th>4</th>\n",
       "      <td>1</td>\n",
       "      <td>1</td>\n",
       "      <td>Sunrisers Hyderabad</td>\n",
       "      <td>Royal Challengers Bangalore</td>\n",
       "      <td>1</td>\n",
       "      <td>5</td>\n",
       "      <td>DA Warner</td>\n",
       "      <td>S Dhawan</td>\n",
       "      <td>TS Mills</td>\n",
       "      <td>0</td>\n",
       "      <td>...</td>\n",
       "      <td>normal</td>\n",
       "      <td>0</td>\n",
       "      <td>Sunrisers Hyderabad</td>\n",
       "      <td>35</td>\n",
       "      <td>0</td>\n",
       "      <td>Yuvraj Singh</td>\n",
       "      <td>Rajiv Gandhi International Stadium, Uppal</td>\n",
       "      <td>AY Dandekar</td>\n",
       "      <td>NJ Llong</td>\n",
       "      <td>NaN</td>\n",
       "    </tr>\n",
       "  </tbody>\n",
       "</table>\n",
       "<p>5 rows × 39 columns</p>\n",
       "</div>"
      ],
      "text/plain": [
       "   match_id  inning         batting_team                 bowling_team  over  \\\n",
       "0         1       1  Sunrisers Hyderabad  Royal Challengers Bangalore     1   \n",
       "1         1       1  Sunrisers Hyderabad  Royal Challengers Bangalore     1   \n",
       "2         1       1  Sunrisers Hyderabad  Royal Challengers Bangalore     1   \n",
       "3         1       1  Sunrisers Hyderabad  Royal Challengers Bangalore     1   \n",
       "4         1       1  Sunrisers Hyderabad  Royal Challengers Bangalore     1   \n",
       "\n",
       "   ball    batsman non_striker    bowler  is_super_over  ...  result  \\\n",
       "0     1  DA Warner    S Dhawan  TS Mills              0  ...  normal   \n",
       "1     2  DA Warner    S Dhawan  TS Mills              0  ...  normal   \n",
       "2     3  DA Warner    S Dhawan  TS Mills              0  ...  normal   \n",
       "3     4  DA Warner    S Dhawan  TS Mills              0  ...  normal   \n",
       "4     5  DA Warner    S Dhawan  TS Mills              0  ...  normal   \n",
       "\n",
       "   dl_applied               winner  win_by_runs  win_by_wickets  \\\n",
       "0           0  Sunrisers Hyderabad           35               0   \n",
       "1           0  Sunrisers Hyderabad           35               0   \n",
       "2           0  Sunrisers Hyderabad           35               0   \n",
       "3           0  Sunrisers Hyderabad           35               0   \n",
       "4           0  Sunrisers Hyderabad           35               0   \n",
       "\n",
       "   player_of_match                                      venue      umpire1  \\\n",
       "0     Yuvraj Singh  Rajiv Gandhi International Stadium, Uppal  AY Dandekar   \n",
       "1     Yuvraj Singh  Rajiv Gandhi International Stadium, Uppal  AY Dandekar   \n",
       "2     Yuvraj Singh  Rajiv Gandhi International Stadium, Uppal  AY Dandekar   \n",
       "3     Yuvraj Singh  Rajiv Gandhi International Stadium, Uppal  AY Dandekar   \n",
       "4     Yuvraj Singh  Rajiv Gandhi International Stadium, Uppal  AY Dandekar   \n",
       "\n",
       "    umpire2 umpire3  \n",
       "0  NJ Llong     NaN  \n",
       "1  NJ Llong     NaN  \n",
       "2  NJ Llong     NaN  \n",
       "3  NJ Llong     NaN  \n",
       "4  NJ Llong     NaN  \n",
       "\n",
       "[5 rows x 39 columns]"
      ]
     },
     "execution_count": 3,
     "metadata": {},
     "output_type": "execute_result"
    }
   ],
   "source": [
    "match=pd.read_csv('Dataset/matches.csv')\n",
    "delivery=pd.read_csv('Dataset/deliveries.csv')\n",
    "\n",
    "ipl=delivery.merge(match,left_on='match_id',right_on='id')\n",
    "ipl.head()"
   ]
  },
  {
   "cell_type": "markdown",
   "metadata": {},
   "source": [
    "# Scatter Plots\n",
    "\n",
    "<img src=\"https://www.mathsisfun.com/data/images/scatter-ice-cream1.svg\"/>"
   ]
  },
  {
   "cell_type": "markdown",
   "metadata": {},
   "source": [
    "Scatter plots are drawn between to continous variables\n",
    "\n",
    "### Problem :- \n",
    "We are going to draw a scatter plot between Batsman Avg(X axis) and Batsman Strike Rate(Y axis) of the top 50 batsman in IPL(All time)"
   ]
  },
  {
   "cell_type": "code",
   "execution_count": 4,
   "metadata": {},
   "outputs": [],
   "source": [
    "# Fetching a new dataframe with Top 50 batsman\n",
    "top50=ipl.groupby('batsman')['batsman_runs'].sum().sort_values(ascending=False).head(50).index.tolist()\n",
    "new_ipl=ipl[ipl['batsman'].isin(top50)]"
   ]
  },
  {
   "cell_type": "code",
   "execution_count": 5,
   "metadata": {},
   "outputs": [
    {
     "data": {
      "text/html": [
       "<div>\n",
       "<style scoped>\n",
       "    .dataframe tbody tr th:only-of-type {\n",
       "        vertical-align: middle;\n",
       "    }\n",
       "\n",
       "    .dataframe tbody tr th {\n",
       "        vertical-align: top;\n",
       "    }\n",
       "\n",
       "    .dataframe thead th {\n",
       "        text-align: right;\n",
       "    }\n",
       "</style>\n",
       "<table border=\"1\" class=\"dataframe\">\n",
       "  <thead>\n",
       "    <tr style=\"text-align: right;\">\n",
       "      <th></th>\n",
       "      <th>batsman</th>\n",
       "      <th>batsman_runs</th>\n",
       "    </tr>\n",
       "  </thead>\n",
       "  <tbody>\n",
       "    <tr>\n",
       "      <th>0</th>\n",
       "      <td>AB de Villiers</td>\n",
       "      <td>145.129059</td>\n",
       "    </tr>\n",
       "    <tr>\n",
       "      <th>1</th>\n",
       "      <td>AC Gilchrist</td>\n",
       "      <td>133.054662</td>\n",
       "    </tr>\n",
       "    <tr>\n",
       "      <th>2</th>\n",
       "      <td>AJ Finch</td>\n",
       "      <td>126.299213</td>\n",
       "    </tr>\n",
       "    <tr>\n",
       "      <th>3</th>\n",
       "      <td>AM Rahane</td>\n",
       "      <td>117.486549</td>\n",
       "    </tr>\n",
       "    <tr>\n",
       "      <th>4</th>\n",
       "      <td>AT Rayudu</td>\n",
       "      <td>123.014257</td>\n",
       "    </tr>\n",
       "    <tr>\n",
       "      <th>5</th>\n",
       "      <td>BB McCullum</td>\n",
       "      <td>126.318203</td>\n",
       "    </tr>\n",
       "    <tr>\n",
       "      <th>6</th>\n",
       "      <td>BJ Hodge</td>\n",
       "      <td>121.422376</td>\n",
       "    </tr>\n",
       "    <tr>\n",
       "      <th>7</th>\n",
       "      <td>CH Gayle</td>\n",
       "      <td>144.194313</td>\n",
       "    </tr>\n",
       "    <tr>\n",
       "      <th>8</th>\n",
       "      <td>DA Miller</td>\n",
       "      <td>137.709251</td>\n",
       "    </tr>\n",
       "    <tr>\n",
       "      <th>9</th>\n",
       "      <td>DA Warner</td>\n",
       "      <td>138.318401</td>\n",
       "    </tr>\n",
       "    <tr>\n",
       "      <th>10</th>\n",
       "      <td>DJ Bravo</td>\n",
       "      <td>122.286822</td>\n",
       "    </tr>\n",
       "    <tr>\n",
       "      <th>11</th>\n",
       "      <td>DJ Hussey</td>\n",
       "      <td>120.072661</td>\n",
       "    </tr>\n",
       "    <tr>\n",
       "      <th>12</th>\n",
       "      <td>DPMD Jayawardene</td>\n",
       "      <td>118.791064</td>\n",
       "    </tr>\n",
       "    <tr>\n",
       "      <th>13</th>\n",
       "      <td>DR Smith</td>\n",
       "      <td>132.279534</td>\n",
       "    </tr>\n",
       "    <tr>\n",
       "      <th>14</th>\n",
       "      <td>F du Plessis</td>\n",
       "      <td>124.161074</td>\n",
       "    </tr>\n",
       "    <tr>\n",
       "      <th>15</th>\n",
       "      <td>G Gambhir</td>\n",
       "      <td>120.361200</td>\n",
       "    </tr>\n",
       "    <tr>\n",
       "      <th>16</th>\n",
       "      <td>GJ Maxwell</td>\n",
       "      <td>157.564103</td>\n",
       "    </tr>\n",
       "    <tr>\n",
       "      <th>17</th>\n",
       "      <td>JH Kallis</td>\n",
       "      <td>105.936272</td>\n",
       "    </tr>\n",
       "    <tr>\n",
       "      <th>18</th>\n",
       "      <td>JP Duminy</td>\n",
       "      <td>121.970624</td>\n",
       "    </tr>\n",
       "    <tr>\n",
       "      <th>19</th>\n",
       "      <td>KA Pollard</td>\n",
       "      <td>140.621266</td>\n",
       "    </tr>\n",
       "    <tr>\n",
       "      <th>20</th>\n",
       "      <td>KC Sangakkara</td>\n",
       "      <td>118.469101</td>\n",
       "    </tr>\n",
       "    <tr>\n",
       "      <th>21</th>\n",
       "      <td>KD Karthik</td>\n",
       "      <td>123.008475</td>\n",
       "    </tr>\n",
       "    <tr>\n",
       "      <th>22</th>\n",
       "      <td>KK Nair</td>\n",
       "      <td>124.650161</td>\n",
       "    </tr>\n",
       "    <tr>\n",
       "      <th>23</th>\n",
       "      <td>M Vijay</td>\n",
       "      <td>120.028681</td>\n",
       "    </tr>\n",
       "    <tr>\n",
       "      <th>24</th>\n",
       "      <td>MEK Hussey</td>\n",
       "      <td>119.963592</td>\n",
       "    </tr>\n",
       "    <tr>\n",
       "      <th>25</th>\n",
       "      <td>MK Pandey</td>\n",
       "      <td>116.938453</td>\n",
       "    </tr>\n",
       "    <tr>\n",
       "      <th>26</th>\n",
       "      <td>MK Tiwary</td>\n",
       "      <td>114.127424</td>\n",
       "    </tr>\n",
       "    <tr>\n",
       "      <th>27</th>\n",
       "      <td>MS Dhoni</td>\n",
       "      <td>132.835821</td>\n",
       "    </tr>\n",
       "    <tr>\n",
       "      <th>28</th>\n",
       "      <td>NV Ojha</td>\n",
       "      <td>114.528024</td>\n",
       "    </tr>\n",
       "    <tr>\n",
       "      <th>29</th>\n",
       "      <td>PA Patel</td>\n",
       "      <td>112.718447</td>\n",
       "    </tr>\n",
       "    <tr>\n",
       "      <th>30</th>\n",
       "      <td>R Dravid</td>\n",
       "      <td>113.347237</td>\n",
       "    </tr>\n",
       "    <tr>\n",
       "      <th>31</th>\n",
       "      <td>RA Jadeja</td>\n",
       "      <td>118.792867</td>\n",
       "    </tr>\n",
       "    <tr>\n",
       "      <th>32</th>\n",
       "      <td>RG Sharma</td>\n",
       "      <td>128.497251</td>\n",
       "    </tr>\n",
       "    <tr>\n",
       "      <th>33</th>\n",
       "      <td>RV Uthappa</td>\n",
       "      <td>127.635135</td>\n",
       "    </tr>\n",
       "    <tr>\n",
       "      <th>34</th>\n",
       "      <td>S Badrinath</td>\n",
       "      <td>115.742972</td>\n",
       "    </tr>\n",
       "    <tr>\n",
       "      <th>35</th>\n",
       "      <td>S Dhawan</td>\n",
       "      <td>118.502496</td>\n",
       "    </tr>\n",
       "    <tr>\n",
       "      <th>36</th>\n",
       "      <td>SC Ganguly</td>\n",
       "      <td>101.734540</td>\n",
       "    </tr>\n",
       "    <tr>\n",
       "      <th>37</th>\n",
       "      <td>SE Marsh</td>\n",
       "      <td>130.109775</td>\n",
       "    </tr>\n",
       "    <tr>\n",
       "      <th>38</th>\n",
       "      <td>SK Raina</td>\n",
       "      <td>134.995548</td>\n",
       "    </tr>\n",
       "    <tr>\n",
       "      <th>39</th>\n",
       "      <td>SPD Smith</td>\n",
       "      <td>128.507127</td>\n",
       "    </tr>\n",
       "    <tr>\n",
       "      <th>40</th>\n",
       "      <td>SR Tendulkar</td>\n",
       "      <td>114.187867</td>\n",
       "    </tr>\n",
       "    <tr>\n",
       "      <th>41</th>\n",
       "      <td>SR Watson</td>\n",
       "      <td>134.838379</td>\n",
       "    </tr>\n",
       "    <tr>\n",
       "      <th>42</th>\n",
       "      <td>SS Tiwary</td>\n",
       "      <td>114.851485</td>\n",
       "    </tr>\n",
       "    <tr>\n",
       "      <th>43</th>\n",
       "      <td>SV Samson</td>\n",
       "      <td>122.403433</td>\n",
       "    </tr>\n",
       "    <tr>\n",
       "      <th>44</th>\n",
       "      <td>TM Dilshan</td>\n",
       "      <td>110.124164</td>\n",
       "    </tr>\n",
       "    <tr>\n",
       "      <th>45</th>\n",
       "      <td>V Kohli</td>\n",
       "      <td>126.588437</td>\n",
       "    </tr>\n",
       "    <tr>\n",
       "      <th>46</th>\n",
       "      <td>V Sehwag</td>\n",
       "      <td>148.827059</td>\n",
       "    </tr>\n",
       "    <tr>\n",
       "      <th>47</th>\n",
       "      <td>WP Saha</td>\n",
       "      <td>127.727646</td>\n",
       "    </tr>\n",
       "    <tr>\n",
       "      <th>48</th>\n",
       "      <td>YK Pathan</td>\n",
       "      <td>140.751445</td>\n",
       "    </tr>\n",
       "    <tr>\n",
       "      <th>49</th>\n",
       "      <td>Yuvraj Singh</td>\n",
       "      <td>126.390244</td>\n",
       "    </tr>\n",
       "  </tbody>\n",
       "</table>\n",
       "</div>"
      ],
      "text/plain": [
       "             batsman  batsman_runs\n",
       "0     AB de Villiers    145.129059\n",
       "1       AC Gilchrist    133.054662\n",
       "2           AJ Finch    126.299213\n",
       "3          AM Rahane    117.486549\n",
       "4          AT Rayudu    123.014257\n",
       "5        BB McCullum    126.318203\n",
       "6           BJ Hodge    121.422376\n",
       "7           CH Gayle    144.194313\n",
       "8          DA Miller    137.709251\n",
       "9          DA Warner    138.318401\n",
       "10          DJ Bravo    122.286822\n",
       "11         DJ Hussey    120.072661\n",
       "12  DPMD Jayawardene    118.791064\n",
       "13          DR Smith    132.279534\n",
       "14      F du Plessis    124.161074\n",
       "15         G Gambhir    120.361200\n",
       "16        GJ Maxwell    157.564103\n",
       "17         JH Kallis    105.936272\n",
       "18         JP Duminy    121.970624\n",
       "19        KA Pollard    140.621266\n",
       "20     KC Sangakkara    118.469101\n",
       "21        KD Karthik    123.008475\n",
       "22           KK Nair    124.650161\n",
       "23           M Vijay    120.028681\n",
       "24        MEK Hussey    119.963592\n",
       "25         MK Pandey    116.938453\n",
       "26         MK Tiwary    114.127424\n",
       "27          MS Dhoni    132.835821\n",
       "28           NV Ojha    114.528024\n",
       "29          PA Patel    112.718447\n",
       "30          R Dravid    113.347237\n",
       "31         RA Jadeja    118.792867\n",
       "32         RG Sharma    128.497251\n",
       "33        RV Uthappa    127.635135\n",
       "34       S Badrinath    115.742972\n",
       "35          S Dhawan    118.502496\n",
       "36        SC Ganguly    101.734540\n",
       "37          SE Marsh    130.109775\n",
       "38          SK Raina    134.995548\n",
       "39         SPD Smith    128.507127\n",
       "40      SR Tendulkar    114.187867\n",
       "41         SR Watson    134.838379\n",
       "42         SS Tiwary    114.851485\n",
       "43         SV Samson    122.403433\n",
       "44        TM Dilshan    110.124164\n",
       "45           V Kohli    126.588437\n",
       "46          V Sehwag    148.827059\n",
       "47           WP Saha    127.727646\n",
       "48         YK Pathan    140.751445\n",
       "49      Yuvraj Singh    126.390244"
      ]
     },
     "execution_count": 5,
     "metadata": {},
     "output_type": "execute_result"
    }
   ],
   "source": [
    "# Calculating Strike Rate (SR)\n",
    "# SR=[(number of runs scored)/(number of balls played)]*100\n",
    "runs=new_ipl.groupby('batsman')['batsman_runs'].sum()\n",
    "balls=new_ipl.groupby('batsman')['batsman_runs'].count()\n",
    "\n",
    "sr=(runs/balls)*100\n",
    "\n",
    "sr=sr.reset_index()\n",
    "sr"
   ]
  },
  {
   "cell_type": "code",
   "execution_count": 6,
   "metadata": {},
   "outputs": [
    {
     "data": {
      "text/html": [
       "<div>\n",
       "<style scoped>\n",
       "    .dataframe tbody tr th:only-of-type {\n",
       "        vertical-align: middle;\n",
       "    }\n",
       "\n",
       "    .dataframe tbody tr th {\n",
       "        vertical-align: top;\n",
       "    }\n",
       "\n",
       "    .dataframe thead th {\n",
       "        text-align: right;\n",
       "    }\n",
       "</style>\n",
       "<table border=\"1\" class=\"dataframe\">\n",
       "  <thead>\n",
       "    <tr style=\"text-align: right;\">\n",
       "      <th></th>\n",
       "      <th>batsman</th>\n",
       "      <th>avg</th>\n",
       "      <th>batsman_runs</th>\n",
       "    </tr>\n",
       "  </thead>\n",
       "  <tbody>\n",
       "    <tr>\n",
       "      <th>0</th>\n",
       "      <td>AB de Villiers</td>\n",
       "      <td>38.307692</td>\n",
       "      <td>145.129059</td>\n",
       "    </tr>\n",
       "    <tr>\n",
       "      <th>1</th>\n",
       "      <td>AC Gilchrist</td>\n",
       "      <td>27.223684</td>\n",
       "      <td>133.054662</td>\n",
       "    </tr>\n",
       "    <tr>\n",
       "      <th>2</th>\n",
       "      <td>AJ Finch</td>\n",
       "      <td>27.186441</td>\n",
       "      <td>126.299213</td>\n",
       "    </tr>\n",
       "    <tr>\n",
       "      <th>3</th>\n",
       "      <td>AM Rahane</td>\n",
       "      <td>33.593407</td>\n",
       "      <td>117.486549</td>\n",
       "    </tr>\n",
       "    <tr>\n",
       "      <th>4</th>\n",
       "      <td>AT Rayudu</td>\n",
       "      <td>27.146067</td>\n",
       "      <td>123.014257</td>\n",
       "    </tr>\n",
       "    <tr>\n",
       "      <th>5</th>\n",
       "      <td>BB McCullum</td>\n",
       "      <td>28.112245</td>\n",
       "      <td>126.318203</td>\n",
       "    </tr>\n",
       "    <tr>\n",
       "      <th>6</th>\n",
       "      <td>BJ Hodge</td>\n",
       "      <td>33.333333</td>\n",
       "      <td>121.422376</td>\n",
       "    </tr>\n",
       "    <tr>\n",
       "      <th>7</th>\n",
       "      <td>CH Gayle</td>\n",
       "      <td>41.022472</td>\n",
       "      <td>144.194313</td>\n",
       "    </tr>\n",
       "    <tr>\n",
       "      <th>8</th>\n",
       "      <td>DA Miller</td>\n",
       "      <td>34.733333</td>\n",
       "      <td>137.709251</td>\n",
       "    </tr>\n",
       "    <tr>\n",
       "      <th>9</th>\n",
       "      <td>DA Warner</td>\n",
       "      <td>40.140000</td>\n",
       "      <td>138.318401</td>\n",
       "    </tr>\n",
       "    <tr>\n",
       "      <th>10</th>\n",
       "      <td>DJ Bravo</td>\n",
       "      <td>22.945455</td>\n",
       "      <td>122.286822</td>\n",
       "    </tr>\n",
       "    <tr>\n",
       "      <th>11</th>\n",
       "      <td>DJ Hussey</td>\n",
       "      <td>26.979592</td>\n",
       "      <td>120.072661</td>\n",
       "    </tr>\n",
       "    <tr>\n",
       "      <th>12</th>\n",
       "      <td>DPMD Jayawardene</td>\n",
       "      <td>28.250000</td>\n",
       "      <td>118.791064</td>\n",
       "    </tr>\n",
       "    <tr>\n",
       "      <th>13</th>\n",
       "      <td>DR Smith</td>\n",
       "      <td>28.392857</td>\n",
       "      <td>132.279534</td>\n",
       "    </tr>\n",
       "    <tr>\n",
       "      <th>14</th>\n",
       "      <td>F du Plessis</td>\n",
       "      <td>30.116279</td>\n",
       "      <td>124.161074</td>\n",
       "    </tr>\n",
       "    <tr>\n",
       "      <th>15</th>\n",
       "      <td>G Gambhir</td>\n",
       "      <td>31.541985</td>\n",
       "      <td>120.361200</td>\n",
       "    </tr>\n",
       "    <tr>\n",
       "      <th>16</th>\n",
       "      <td>GJ Maxwell</td>\n",
       "      <td>25.081633</td>\n",
       "      <td>157.564103</td>\n",
       "    </tr>\n",
       "    <tr>\n",
       "      <th>17</th>\n",
       "      <td>JH Kallis</td>\n",
       "      <td>28.552941</td>\n",
       "      <td>105.936272</td>\n",
       "    </tr>\n",
       "    <tr>\n",
       "      <th>18</th>\n",
       "      <td>JP Duminy</td>\n",
       "      <td>39.860000</td>\n",
       "      <td>121.970624</td>\n",
       "    </tr>\n",
       "    <tr>\n",
       "      <th>19</th>\n",
       "      <td>KA Pollard</td>\n",
       "      <td>28.707317</td>\n",
       "      <td>140.621266</td>\n",
       "    </tr>\n",
       "    <tr>\n",
       "      <th>20</th>\n",
       "      <td>KC Sangakkara</td>\n",
       "      <td>25.953846</td>\n",
       "      <td>118.469101</td>\n",
       "    </tr>\n",
       "    <tr>\n",
       "      <th>21</th>\n",
       "      <td>KD Karthik</td>\n",
       "      <td>24.811966</td>\n",
       "      <td>123.008475</td>\n",
       "    </tr>\n",
       "    <tr>\n",
       "      <th>22</th>\n",
       "      <td>KK Nair</td>\n",
       "      <td>25.173913</td>\n",
       "      <td>124.650161</td>\n",
       "    </tr>\n",
       "    <tr>\n",
       "      <th>23</th>\n",
       "      <td>M Vijay</td>\n",
       "      <td>26.431579</td>\n",
       "      <td>120.028681</td>\n",
       "    </tr>\n",
       "    <tr>\n",
       "      <th>24</th>\n",
       "      <td>MEK Hussey</td>\n",
       "      <td>38.764706</td>\n",
       "      <td>119.963592</td>\n",
       "    </tr>\n",
       "    <tr>\n",
       "      <th>25</th>\n",
       "      <td>MK Pandey</td>\n",
       "      <td>28.500000</td>\n",
       "      <td>116.938453</td>\n",
       "    </tr>\n",
       "    <tr>\n",
       "      <th>26</th>\n",
       "      <td>MK Tiwary</td>\n",
       "      <td>29.428571</td>\n",
       "      <td>114.127424</td>\n",
       "    </tr>\n",
       "    <tr>\n",
       "      <th>27</th>\n",
       "      <td>MS Dhoni</td>\n",
       "      <td>37.872340</td>\n",
       "      <td>132.835821</td>\n",
       "    </tr>\n",
       "    <tr>\n",
       "      <th>28</th>\n",
       "      <td>NV Ojha</td>\n",
       "      <td>20.986486</td>\n",
       "      <td>114.528024</td>\n",
       "    </tr>\n",
       "    <tr>\n",
       "      <th>29</th>\n",
       "      <td>PA Patel</td>\n",
       "      <td>21.700935</td>\n",
       "      <td>112.718447</td>\n",
       "    </tr>\n",
       "    <tr>\n",
       "      <th>30</th>\n",
       "      <td>R Dravid</td>\n",
       "      <td>28.233766</td>\n",
       "      <td>113.347237</td>\n",
       "    </tr>\n",
       "    <tr>\n",
       "      <th>31</th>\n",
       "      <td>RA Jadeja</td>\n",
       "      <td>24.055556</td>\n",
       "      <td>118.792867</td>\n",
       "    </tr>\n",
       "    <tr>\n",
       "      <th>32</th>\n",
       "      <td>RG Sharma</td>\n",
       "      <td>32.612403</td>\n",
       "      <td>128.497251</td>\n",
       "    </tr>\n",
       "    <tr>\n",
       "      <th>33</th>\n",
       "      <td>RV Uthappa</td>\n",
       "      <td>29.515625</td>\n",
       "      <td>127.635135</td>\n",
       "    </tr>\n",
       "    <tr>\n",
       "      <th>34</th>\n",
       "      <td>S Badrinath</td>\n",
       "      <td>30.659574</td>\n",
       "      <td>115.742972</td>\n",
       "    </tr>\n",
       "    <tr>\n",
       "      <th>35</th>\n",
       "      <td>S Dhawan</td>\n",
       "      <td>32.669725</td>\n",
       "      <td>118.502496</td>\n",
       "    </tr>\n",
       "    <tr>\n",
       "      <th>36</th>\n",
       "      <td>SC Ganguly</td>\n",
       "      <td>25.452830</td>\n",
       "      <td>101.734540</td>\n",
       "    </tr>\n",
       "    <tr>\n",
       "      <th>37</th>\n",
       "      <td>SE Marsh</td>\n",
       "      <td>39.507937</td>\n",
       "      <td>130.109775</td>\n",
       "    </tr>\n",
       "    <tr>\n",
       "      <th>38</th>\n",
       "      <td>SK Raina</td>\n",
       "      <td>33.940299</td>\n",
       "      <td>134.995548</td>\n",
       "    </tr>\n",
       "    <tr>\n",
       "      <th>39</th>\n",
       "      <td>SPD Smith</td>\n",
       "      <td>37.239130</td>\n",
       "      <td>128.507127</td>\n",
       "    </tr>\n",
       "    <tr>\n",
       "      <th>40</th>\n",
       "      <td>SR Tendulkar</td>\n",
       "      <td>33.826087</td>\n",
       "      <td>114.187867</td>\n",
       "    </tr>\n",
       "    <tr>\n",
       "      <th>41</th>\n",
       "      <td>SR Watson</td>\n",
       "      <td>30.917647</td>\n",
       "      <td>134.838379</td>\n",
       "    </tr>\n",
       "    <tr>\n",
       "      <th>42</th>\n",
       "      <td>SS Tiwary</td>\n",
       "      <td>28.355556</td>\n",
       "      <td>114.851485</td>\n",
       "    </tr>\n",
       "    <tr>\n",
       "      <th>43</th>\n",
       "      <td>SV Samson</td>\n",
       "      <td>25.464286</td>\n",
       "      <td>122.403433</td>\n",
       "    </tr>\n",
       "    <tr>\n",
       "      <th>44</th>\n",
       "      <td>TM Dilshan</td>\n",
       "      <td>26.813953</td>\n",
       "      <td>110.124164</td>\n",
       "    </tr>\n",
       "    <tr>\n",
       "      <th>45</th>\n",
       "      <td>V Kohli</td>\n",
       "      <td>37.483051</td>\n",
       "      <td>126.588437</td>\n",
       "    </tr>\n",
       "    <tr>\n",
       "      <th>46</th>\n",
       "      <td>V Sehwag</td>\n",
       "      <td>27.555556</td>\n",
       "      <td>148.827059</td>\n",
       "    </tr>\n",
       "    <tr>\n",
       "      <th>47</th>\n",
       "      <td>WP Saha</td>\n",
       "      <td>25.524590</td>\n",
       "      <td>127.727646</td>\n",
       "    </tr>\n",
       "    <tr>\n",
       "      <th>48</th>\n",
       "      <td>YK Pathan</td>\n",
       "      <td>29.816327</td>\n",
       "      <td>140.751445</td>\n",
       "    </tr>\n",
       "    <tr>\n",
       "      <th>49</th>\n",
       "      <td>Yuvraj Singh</td>\n",
       "      <td>25.653465</td>\n",
       "      <td>126.390244</td>\n",
       "    </tr>\n",
       "  </tbody>\n",
       "</table>\n",
       "</div>"
      ],
      "text/plain": [
       "             batsman        avg  batsman_runs\n",
       "0     AB de Villiers  38.307692    145.129059\n",
       "1       AC Gilchrist  27.223684    133.054662\n",
       "2           AJ Finch  27.186441    126.299213\n",
       "3          AM Rahane  33.593407    117.486549\n",
       "4          AT Rayudu  27.146067    123.014257\n",
       "5        BB McCullum  28.112245    126.318203\n",
       "6           BJ Hodge  33.333333    121.422376\n",
       "7           CH Gayle  41.022472    144.194313\n",
       "8          DA Miller  34.733333    137.709251\n",
       "9          DA Warner  40.140000    138.318401\n",
       "10          DJ Bravo  22.945455    122.286822\n",
       "11         DJ Hussey  26.979592    120.072661\n",
       "12  DPMD Jayawardene  28.250000    118.791064\n",
       "13          DR Smith  28.392857    132.279534\n",
       "14      F du Plessis  30.116279    124.161074\n",
       "15         G Gambhir  31.541985    120.361200\n",
       "16        GJ Maxwell  25.081633    157.564103\n",
       "17         JH Kallis  28.552941    105.936272\n",
       "18         JP Duminy  39.860000    121.970624\n",
       "19        KA Pollard  28.707317    140.621266\n",
       "20     KC Sangakkara  25.953846    118.469101\n",
       "21        KD Karthik  24.811966    123.008475\n",
       "22           KK Nair  25.173913    124.650161\n",
       "23           M Vijay  26.431579    120.028681\n",
       "24        MEK Hussey  38.764706    119.963592\n",
       "25         MK Pandey  28.500000    116.938453\n",
       "26         MK Tiwary  29.428571    114.127424\n",
       "27          MS Dhoni  37.872340    132.835821\n",
       "28           NV Ojha  20.986486    114.528024\n",
       "29          PA Patel  21.700935    112.718447\n",
       "30          R Dravid  28.233766    113.347237\n",
       "31         RA Jadeja  24.055556    118.792867\n",
       "32         RG Sharma  32.612403    128.497251\n",
       "33        RV Uthappa  29.515625    127.635135\n",
       "34       S Badrinath  30.659574    115.742972\n",
       "35          S Dhawan  32.669725    118.502496\n",
       "36        SC Ganguly  25.452830    101.734540\n",
       "37          SE Marsh  39.507937    130.109775\n",
       "38          SK Raina  33.940299    134.995548\n",
       "39         SPD Smith  37.239130    128.507127\n",
       "40      SR Tendulkar  33.826087    114.187867\n",
       "41         SR Watson  30.917647    134.838379\n",
       "42         SS Tiwary  28.355556    114.851485\n",
       "43         SV Samson  25.464286    122.403433\n",
       "44        TM Dilshan  26.813953    110.124164\n",
       "45           V Kohli  37.483051    126.588437\n",
       "46          V Sehwag  27.555556    148.827059\n",
       "47           WP Saha  25.524590    127.727646\n",
       "48         YK Pathan  29.816327    140.751445\n",
       "49      Yuvraj Singh  25.653465    126.390244"
      ]
     },
     "execution_count": 6,
     "metadata": {},
     "output_type": "execute_result"
    }
   ],
   "source": [
    "# Calculating Avgegrage\n",
    "# Avg=(Total number of Runs)/(Number of outs)\n",
    "\n",
    "# Calculating number of outs for top 50 batsman\n",
    "out=ipl[ipl['player_dismissed'].isin(top50)]\n",
    "\n",
    "nouts=out['player_dismissed'].value_counts()\n",
    "\n",
    "avg=runs/nouts\n",
    "\n",
    "avg=avg.reset_index()\n",
    "avg.rename(columns={'index':'batsman',0:'avg'},inplace=True)\n",
    "\n",
    "avg=avg.merge(sr,on='batsman')\n",
    "avg"
   ]
  },
  {
   "cell_type": "markdown",
   "metadata": {},
   "source": [
    "## To plot using plotly,\n",
    "\n",
    "We use a plot function with <b>figure object</b>.\n",
    "\n",
    "And to make object of figure we need <b>data</b> and <b>layout</b>.\n",
    "\n",
    "<b>data</b> is a <b>list</b>, we can add multiple or single trace.\n",
    "\n",
    "<b>trace</b>, when we plot one graph it is known as trace\n",
    "When we need to show two things in a graph, we need 2 trace.\n",
    "\n",
    "<b>layout</b> is used to define other properties of plot like, title, x-axis label, y-axis label, background."
   ]
  },
  {
   "cell_type": "code",
   "execution_count": 17,
   "metadata": {},
   "outputs": [
    {
     "data": {
      "text/plain": [
       "'temp-plot.html'"
      ]
     },
     "execution_count": 17,
     "metadata": {},
     "output_type": "execute_result"
    }
   ],
   "source": [
    "# Plot Scatter Plot here\n",
    "\n",
    "trace = go.Scatter(x=avg['avg'], \n",
    "                   y=avg['batsman_runs'], \n",
    "                   mode='markers')\n",
    "\n",
    "data = [trace]\n",
    "\n",
    "layout = go.Layout(title='Batsman Average vs Strike Rate',\n",
    "                  xaxis = {'title': 'Runs'},\n",
    "                  yaxis = {'title': 'Strike Rate'})\n",
    "\n",
    "fig = go.Figure(data=data, layout=layout)\n",
    "\n",
    "pyo.plot(fig)"
   ]
  },
  {
   "cell_type": "markdown",
   "metadata": {},
   "source": [
    "<b>To get the names of batsman in above graph</b>"
   ]
  },
  {
   "cell_type": "code",
   "execution_count": 19,
   "metadata": {},
   "outputs": [
    {
     "data": {
      "text/plain": [
       "'temp-plot.html'"
      ]
     },
     "execution_count": 19,
     "metadata": {},
     "output_type": "execute_result"
    }
   ],
   "source": [
    "# Plot Scatter Plot here\n",
    "\n",
    "trace = go.Scatter(x=avg['avg'],\n",
    "                   y=avg['batsman_runs'], \n",
    "                   mode='markers',\n",
    "                   text = avg['batsman'])\n",
    "\n",
    "data = [trace]\n",
    "\n",
    "layout = go.Layout(title='Batsman Average vs Strike Rate',\n",
    "                  xaxis = {'title': 'Runs'},\n",
    "                  yaxis = {'title': 'Strike Rate'})\n",
    "\n",
    "fig = go.Figure(data=data, layout=layout)\n",
    "\n",
    "pyo.plot(fig)"
   ]
  },
  {
   "cell_type": "markdown",
   "metadata": {},
   "source": [
    "<b>To plot yellow points instead of blue</b>\n",
    "(Use hexadecimal code in color)</b>"
   ]
  },
  {
   "cell_type": "code",
   "execution_count": 21,
   "metadata": {},
   "outputs": [
    {
     "data": {
      "text/plain": [
       "'temp-plot.html'"
      ]
     },
     "execution_count": 21,
     "metadata": {},
     "output_type": "execute_result"
    }
   ],
   "source": [
    "# Plot Scatter Plot here\n",
    "\n",
    "trace = go.Scatter(x=avg['avg'], \n",
    "                   y=avg['batsman_runs'], \n",
    "                   mode='markers',\n",
    "                   text = avg['batsman'],\n",
    "                   marker = {'color': '#00a65a'})\n",
    "\n",
    "data = [trace]\n",
    "\n",
    "layout = go.Layout(title='Batsman Average vs Strike Rate',\n",
    "                  xaxis = {'title': 'Runs'},\n",
    "                  yaxis = {'title': 'Strike Rate'})\n",
    "\n",
    "fig = go.Figure(data=data, layout=layout)\n",
    "\n",
    "pyo.plot(fig)"
   ]
  },
  {
   "cell_type": "markdown",
   "metadata": {},
   "source": [
    "<b>We can also increase or decrease size of marker</b>"
   ]
  },
  {
   "cell_type": "code",
   "execution_count": 23,
   "metadata": {},
   "outputs": [
    {
     "data": {
      "text/plain": [
       "'temp-plot.html'"
      ]
     },
     "execution_count": 23,
     "metadata": {},
     "output_type": "execute_result"
    }
   ],
   "source": [
    "# Plot Scatter Plot here\n",
    "\n",
    "trace = go.Scatter(x=avg['avg'], \n",
    "                   y=avg['batsman_runs'], \n",
    "                   mode='markers',\n",
    "                   text = avg['batsman'],\n",
    "                   marker = {'color': '#00a65a',\n",
    "                             'size': 16})\n",
    "\n",
    "data = [trace]\n",
    "\n",
    "layout = go.Layout(title='Batsman Average vs Strike Rate',\n",
    "                  xaxis = {'title': 'Runs'},\n",
    "                  yaxis = {'title': 'Strike Rate'})\n",
    "\n",
    "fig = go.Figure(data=data, layout=layout)\n",
    "\n",
    "pyo.plot(fig)"
   ]
  },
  {
   "cell_type": "markdown",
   "metadata": {},
   "source": [
    "<b>To save a plot with a given name.</b>"
   ]
  },
  {
   "cell_type": "code",
   "execution_count": 25,
   "metadata": {},
   "outputs": [
    {
     "data": {
      "text/plain": [
       "'plot1.html'"
      ]
     },
     "execution_count": 25,
     "metadata": {},
     "output_type": "execute_result"
    }
   ],
   "source": [
    "# Plot Scatter Plot here\n",
    "\n",
    "trace = go.Scatter(x=avg['avg'], \n",
    "                   y=avg['batsman_runs'], \n",
    "                   mode='markers',\n",
    "                   text = avg['batsman'],\n",
    "                   marker = {'color': '#00a65a',\n",
    "                             'size': 16})\n",
    "\n",
    "data = [trace]\n",
    "\n",
    "layout = go.Layout(title='Batsman Average vs Strike Rate',\n",
    "                  xaxis = {'title': 'Runs'},\n",
    "                  yaxis = {'title': 'Strike Rate'})\n",
    "\n",
    "fig = go.Figure(data=data, layout=layout)\n",
    "\n",
    "pyo.plot(fig,\n",
    "         filename='plot1.html')"
   ]
  },
  {
   "cell_type": "markdown",
   "metadata": {},
   "source": [
    "# Line Chart\n",
    "\n",
    "<p>It's an extension of Scatter plot. Usually used to show a time series data</p>\n",
    "<img src='https://apexcharts.com/wp-content/uploads/2018/01/basic-line-chart.svg'/>"
   ]
  },
  {
   "cell_type": "markdown",
   "metadata": {
    "collapsed": true
   },
   "source": [
    "### Problem:\n",
    "Year by Year batsman performance."
   ]
  },
  {
   "cell_type": "code",
   "execution_count": 47,
   "metadata": {},
   "outputs": [],
   "source": [
    "single1=ipl[ipl['batsman']=='V Kohli']\n",
    "performance1=single.groupby('season')['batsman_runs'].sum().reset_index()\n",
    "\n",
    "single2=ipl[ipl['batsman']=='MS Dhoni']\n",
    "performance2=single2.groupby('season')['batsman_runs'].sum().reset_index()"
   ]
  },
  {
   "cell_type": "code",
   "execution_count": 39,
   "metadata": {},
   "outputs": [
    {
     "data": {
      "text/plain": [
       "'Year by Year Performane.html'"
      ]
     },
     "execution_count": 39,
     "metadata": {},
     "output_type": "execute_result"
    }
   ],
   "source": [
    "# Plot Of Line Chart\n",
    "\n",
    "trace = go.Scatter(x=performance1['season'],\n",
    "                   y=performance1['batsman_runs'],\n",
    "                   mode='lines',\n",
    "                   marker={'color': '#a0065a'})\n",
    "\n",
    "data=[trace]\n",
    "\n",
    "layout = go.Layout(title='Year by Year Performance',\n",
    "                   xaxis={'title': 'Year'},\n",
    "                   yaxis={'title': 'Runs'})\n",
    "\n",
    "fig=go.Figure(data=data, layout=layout)\n",
    "\n",
    "pyo.plot(fig, filename='Year by Year Performane.html')"
   ]
  },
  {
   "cell_type": "markdown",
   "metadata": {},
   "source": [
    "<b>To plot markers along with the line.</b>"
   ]
  },
  {
   "cell_type": "code",
   "execution_count": 40,
   "metadata": {},
   "outputs": [
    {
     "data": {
      "text/plain": [
       "'Year by Year Performane.html'"
      ]
     },
     "execution_count": 40,
     "metadata": {},
     "output_type": "execute_result"
    }
   ],
   "source": [
    "# Plot Of Line Chart\n",
    "\n",
    "trace = go.Scatter(x=performance1['season'],\n",
    "                   y=performance1['batsman_runs'],\n",
    "                   mode='lines+markers',\n",
    "                   marker={'color': '#a0065a'})\n",
    "\n",
    "data=[trace]\n",
    "\n",
    "layout = go.Layout(title='Year by Year Performance',\n",
    "                   xaxis={'title': 'Year'},\n",
    "                   yaxis={'title': 'Runs'})\n",
    "\n",
    "fig=go.Figure(data=data, layout=layout)\n",
    "\n",
    "pyo.plot(fig, filename='Year by Year Performane.html')"
   ]
  },
  {
   "cell_type": "markdown",
   "metadata": {},
   "source": [
    "### Showing two plots using two trace:"
   ]
  },
  {
   "cell_type": "code",
   "execution_count": 49,
   "metadata": {},
   "outputs": [
    {
     "data": {
      "text/plain": [
       "'Year by Year Performane.html'"
      ]
     },
     "execution_count": 49,
     "metadata": {},
     "output_type": "execute_result"
    }
   ],
   "source": [
    "# Plot Of Line Chart\n",
    "\n",
    "trace1 = go.Scatter(x=performance1['season'],\n",
    "                   y=performance1['batsman_runs'],\n",
    "                   mode='lines+markers',\n",
    "                   marker={'color': '#a0065a'},\n",
    "                   name='Virat Kholi')\n",
    "\n",
    "trace2 = go.Scatter(x=performance2['season'],\n",
    "                   y=performance2['batsman_runs'],\n",
    "                   mode='lines+markers',\n",
    "                   marker={'color': 'red'},\n",
    "                   name='MS Dhoni')\n",
    "\n",
    "data=[trace1, trace2]\n",
    "\n",
    "layout = go.Layout(title='Year by Year Performance',\n",
    "                   xaxis={'title': 'Year'},\n",
    "                   yaxis={'title': 'Runs'})\n",
    "\n",
    "fig=go.Figure(data=data, layout=layout)\n",
    "\n",
    "pyo.plot(fig, filename='Year by Year Performane.html')"
   ]
  },
  {
   "cell_type": "markdown",
   "metadata": {},
   "source": [
    "### Problem:\n",
    "Using function to print multiples batsman performance"
   ]
  },
  {
   "cell_type": "code",
   "execution_count": 58,
   "metadata": {},
   "outputs": [],
   "source": [
    "# Multiple Line Charts\n",
    "\n",
    "def batsman_comp(*name):\n",
    "    data=[]\n",
    "    for i in name:\n",
    "        single=ipl[ipl['batsman']==i]\n",
    "        performance=single.groupby('season')['batsman_runs'].sum().reset_index()\n",
    "\n",
    "        trace=go.Scatter(x=performance['season'],y=performance['batsman_runs']\n",
    "                         ,mode='lines + markers',name=i)\n",
    "        \n",
    "        data.append(trace)\n",
    "    \n",
    "    layout=go.Layout(title='Batsman Record Comparator',\n",
    "                xaxis={'title':'Season'},\n",
    "                yaxis={'title':'Runs'})\n",
    "\n",
    "    fig=go.Figure(data=data,layout=layout)\n",
    "\n",
    "    pyo.plot(fig,filename='year_by_year.html')\n",
    "        \n",
    "        "
   ]
  },
  {
   "cell_type": "code",
   "execution_count": 59,
   "metadata": {},
   "outputs": [],
   "source": [
    "batsman_comp('V Kohli', 'RG Sharma','DA Warner','MS Dhoni')"
   ]
  },
  {
   "cell_type": "markdown",
   "metadata": {},
   "source": [
    "# Bar Plot\n",
    "\n",
    "<p>Used to show relation between one categorical and 1 numerical data.</p>\n",
    "<img src=\"https://images.ctfassets.net/fevtq3bap7tj/5FSJrJeDIIGAmGCsGcQ8S4/e2fc867a487614b47f72104a36fbcf7f/simple-column.png\"/>"
   ]
  },
  {
   "cell_type": "markdown",
   "metadata": {},
   "source": [
    "### Problem:\n",
    "Barplot for total score of top 10 Batsman."
   ]
  },
  {
   "cell_type": "code",
   "execution_count": 52,
   "metadata": {},
   "outputs": [],
   "source": [
    "top10=ipl.groupby('batsman')['batsman_runs'].sum().sort_values(ascending=False).head(10).index.tolist()\n",
    "top10_df=ipl[ipl['batsman'].isin(top10)]"
   ]
  },
  {
   "cell_type": "code",
   "execution_count": 53,
   "metadata": {},
   "outputs": [
    {
     "data": {
      "text/html": [
       "<div>\n",
       "<style scoped>\n",
       "    .dataframe tbody tr th:only-of-type {\n",
       "        vertical-align: middle;\n",
       "    }\n",
       "\n",
       "    .dataframe tbody tr th {\n",
       "        vertical-align: top;\n",
       "    }\n",
       "\n",
       "    .dataframe thead th {\n",
       "        text-align: right;\n",
       "    }\n",
       "</style>\n",
       "<table border=\"1\" class=\"dataframe\">\n",
       "  <thead>\n",
       "    <tr style=\"text-align: right;\">\n",
       "      <th></th>\n",
       "      <th>batsman</th>\n",
       "      <th>batsman_runs</th>\n",
       "    </tr>\n",
       "  </thead>\n",
       "  <tbody>\n",
       "    <tr>\n",
       "      <th>0</th>\n",
       "      <td>AB de Villiers</td>\n",
       "      <td>3486</td>\n",
       "    </tr>\n",
       "    <tr>\n",
       "      <th>1</th>\n",
       "      <td>CH Gayle</td>\n",
       "      <td>3651</td>\n",
       "    </tr>\n",
       "    <tr>\n",
       "      <th>2</th>\n",
       "      <td>DA Warner</td>\n",
       "      <td>4014</td>\n",
       "    </tr>\n",
       "    <tr>\n",
       "      <th>3</th>\n",
       "      <td>G Gambhir</td>\n",
       "      <td>4132</td>\n",
       "    </tr>\n",
       "    <tr>\n",
       "      <th>4</th>\n",
       "      <td>MS Dhoni</td>\n",
       "      <td>3560</td>\n",
       "    </tr>\n",
       "    <tr>\n",
       "      <th>5</th>\n",
       "      <td>RG Sharma</td>\n",
       "      <td>4207</td>\n",
       "    </tr>\n",
       "    <tr>\n",
       "      <th>6</th>\n",
       "      <td>RV Uthappa</td>\n",
       "      <td>3778</td>\n",
       "    </tr>\n",
       "    <tr>\n",
       "      <th>7</th>\n",
       "      <td>S Dhawan</td>\n",
       "      <td>3561</td>\n",
       "    </tr>\n",
       "    <tr>\n",
       "      <th>8</th>\n",
       "      <td>SK Raina</td>\n",
       "      <td>4548</td>\n",
       "    </tr>\n",
       "    <tr>\n",
       "      <th>9</th>\n",
       "      <td>V Kohli</td>\n",
       "      <td>4423</td>\n",
       "    </tr>\n",
       "  </tbody>\n",
       "</table>\n",
       "</div>"
      ],
      "text/plain": [
       "          batsman  batsman_runs\n",
       "0  AB de Villiers          3486\n",
       "1        CH Gayle          3651\n",
       "2       DA Warner          4014\n",
       "3       G Gambhir          4132\n",
       "4        MS Dhoni          3560\n",
       "5       RG Sharma          4207\n",
       "6      RV Uthappa          3778\n",
       "7        S Dhawan          3561\n",
       "8        SK Raina          4548\n",
       "9         V Kohli          4423"
      ]
     },
     "execution_count": 53,
     "metadata": {},
     "output_type": "execute_result"
    }
   ],
   "source": [
    "top10_score=top10_df.groupby('batsman')['batsman_runs'].sum().reset_index()\n",
    "top10_score"
   ]
  },
  {
   "cell_type": "code",
   "execution_count": 57,
   "metadata": {},
   "outputs": [
    {
     "data": {
      "text/plain": [
       "'Top 10 Batsman.html'"
      ]
     },
     "execution_count": 57,
     "metadata": {},
     "output_type": "execute_result"
    }
   ],
   "source": [
    "# Plot Bar Graph\n",
    "\n",
    "trace = go.Bar(x=top10_score['batsman'],\n",
    "               y=top10_score['batsman_runs'])\n",
    "\n",
    "data = [trace]\n",
    "\n",
    "layout = go.Layout(title='Top 10 Batsman',\n",
    "                   xaxis={'title':'Batsman'},\n",
    "                   yaxis={'title':'Total Runs'})\n",
    "\n",
    "fig = go.Figure(data=data, layout=layout)\n",
    "\n",
    "pyo.plot(fig, filename=\"Top 10 Batsman.html\")"
   ]
  },
  {
   "cell_type": "markdown",
   "metadata": {},
   "source": [
    "## There are 3 types of Bar Graphs\n",
    "<p>\n",
    "    1. Nested Bar Graph<Br>\n",
    "    2. Stacked Bar Graph<br>\n",
    "    3. Overlayed Bar Graph\n",
    "</p>"
   ]
  },
  {
   "cell_type": "code",
   "execution_count": 61,
   "metadata": {},
   "outputs": [
    {
     "name": "stderr",
     "output_type": "stream",
     "text": [
      "/home/ritik/.local/lib/python3.6/site-packages/pandas/core/frame.py:4133: SettingWithCopyWarning:\n",
      "\n",
      "\n",
      "A value is trying to be set on a copy of a slice from a DataFrame\n",
      "\n",
      "See the caveats in the documentation: https://pandas.pydata.org/pandas-docs/stable/user_guide/indexing.html#returning-a-view-versus-a-copy\n",
      "\n"
     ]
    },
    {
     "data": {
      "text/html": [
       "<div>\n",
       "<style scoped>\n",
       "    .dataframe tbody tr th:only-of-type {\n",
       "        vertical-align: middle;\n",
       "    }\n",
       "\n",
       "    .dataframe tbody tr th {\n",
       "        vertical-align: top;\n",
       "    }\n",
       "\n",
       "    .dataframe thead th {\n",
       "        text-align: right;\n",
       "    }\n",
       "</style>\n",
       "<table border=\"1\" class=\"dataframe\">\n",
       "  <thead>\n",
       "    <tr style=\"text-align: right;\">\n",
       "      <th></th>\n",
       "      <th>batsman</th>\n",
       "      <th>1st Innings</th>\n",
       "      <th>2nd Innings</th>\n",
       "    </tr>\n",
       "  </thead>\n",
       "  <tbody>\n",
       "    <tr>\n",
       "      <th>0</th>\n",
       "      <td>AB de Villiers</td>\n",
       "      <td>2128</td>\n",
       "      <td>1345</td>\n",
       "    </tr>\n",
       "    <tr>\n",
       "      <th>1</th>\n",
       "      <td>CH Gayle</td>\n",
       "      <td>2003</td>\n",
       "      <td>1623</td>\n",
       "    </tr>\n",
       "    <tr>\n",
       "      <th>2</th>\n",
       "      <td>DA Warner</td>\n",
       "      <td>2118</td>\n",
       "      <td>1896</td>\n",
       "    </tr>\n",
       "    <tr>\n",
       "      <th>3</th>\n",
       "      <td>G Gambhir</td>\n",
       "      <td>1699</td>\n",
       "      <td>2433</td>\n",
       "    </tr>\n",
       "    <tr>\n",
       "      <th>4</th>\n",
       "      <td>MS Dhoni</td>\n",
       "      <td>2232</td>\n",
       "      <td>1328</td>\n",
       "    </tr>\n",
       "    <tr>\n",
       "      <th>5</th>\n",
       "      <td>RG Sharma</td>\n",
       "      <td>2344</td>\n",
       "      <td>1863</td>\n",
       "    </tr>\n",
       "    <tr>\n",
       "      <th>6</th>\n",
       "      <td>RV Uthappa</td>\n",
       "      <td>1516</td>\n",
       "      <td>2262</td>\n",
       "    </tr>\n",
       "    <tr>\n",
       "      <th>7</th>\n",
       "      <td>S Dhawan</td>\n",
       "      <td>2262</td>\n",
       "      <td>1299</td>\n",
       "    </tr>\n",
       "    <tr>\n",
       "      <th>8</th>\n",
       "      <td>SK Raina</td>\n",
       "      <td>2647</td>\n",
       "      <td>1893</td>\n",
       "    </tr>\n",
       "    <tr>\n",
       "      <th>9</th>\n",
       "      <td>V Kohli</td>\n",
       "      <td>2391</td>\n",
       "      <td>2027</td>\n",
       "    </tr>\n",
       "  </tbody>\n",
       "</table>\n",
       "</div>"
      ],
      "text/plain": [
       "          batsman  1st Innings  2nd Innings\n",
       "0  AB de Villiers         2128         1345\n",
       "1        CH Gayle         2003         1623\n",
       "2       DA Warner         2118         1896\n",
       "3       G Gambhir         1699         2433\n",
       "4        MS Dhoni         2232         1328\n",
       "5       RG Sharma         2344         1863\n",
       "6      RV Uthappa         1516         2262\n",
       "7        S Dhawan         2262         1299\n",
       "8        SK Raina         2647         1893\n",
       "9         V Kohli         2391         2027"
      ]
     },
     "execution_count": 61,
     "metadata": {},
     "output_type": "execute_result"
    }
   ],
   "source": [
    "iw=top10_df.groupby(['batsman','inning'])['batsman_runs'].sum().reset_index()\n",
    "mask=iw['inning']==1\n",
    "mask2=iw['inning']==2\n",
    "one=iw[mask]\n",
    "two=iw[mask2]\n",
    "\n",
    "\n",
    "one.rename(columns={'batsman_runs':'1st Innings'},inplace=True)\n",
    "two.rename(columns={'batsman_runs':'2nd Innings'},inplace=True)\n",
    "\n",
    "final=one.merge(two,on='batsman')[['batsman','1st Innings','2nd Innings']]\n",
    "\n",
    "final"
   ]
  },
  {
   "cell_type": "markdown",
   "metadata": {},
   "source": [
    "## Overlayed Bargraph"
   ]
  },
  {
   "cell_type": "code",
   "execution_count": 67,
   "metadata": {},
   "outputs": [
    {
     "data": {
      "text/plain": [
       "'Innings wise score of top 10 batsman (Overlayed).html'"
      ]
     },
     "execution_count": 67,
     "metadata": {},
     "output_type": "execute_result"
    }
   ],
   "source": [
    "trace1 = go.Bar(x=final['batsman'],\n",
    "                y=final['1st Innings'],\n",
    "                name='1st Innings')\n",
    "\n",
    "trace2 = go.Bar(x=final['batsman'],\n",
    "                y=final['2nd Innings'],\n",
    "                name='2nd Innings')\n",
    "\n",
    "data = [trace1, trace2]\n",
    "\n",
    "layout = go.Layout(title = 'Innings wise score of top 10 batsman',\n",
    "                   xaxis = {'title': 'Batsman'},\n",
    "                   yaxis = {'title': 'Runs'},\n",
    "                   barmode='overlay')\n",
    "\n",
    "fig = go.Figure(data=data, layout=layout)\n",
    "\n",
    "pyo.plot(fig, filename='Innings wise score of top 10 batsman (Overlayed).html')"
   ]
  },
  {
   "cell_type": "markdown",
   "metadata": {},
   "source": [
    "## Stacked Bargraph\n",
    "In this 1st innings score shown and then 2nd innings score stacked over it, i.e (1st inning + 2nd inning score) is shown in bargraph."
   ]
  },
  {
   "cell_type": "code",
   "execution_count": 66,
   "metadata": {},
   "outputs": [
    {
     "data": {
      "text/plain": [
       "'Innings wise score of top 10 batsman (Stacked).html'"
      ]
     },
     "execution_count": 66,
     "metadata": {},
     "output_type": "execute_result"
    }
   ],
   "source": [
    "trace1 = go.Bar(x=final['batsman'],\n",
    "                y=final['1st Innings'],\n",
    "                name='1st Innings')\n",
    "\n",
    "trace2 = go.Bar(x=final['batsman'],\n",
    "                y=final['2nd Innings'],\n",
    "                name='2nd Innings')\n",
    "\n",
    "data = [trace1, trace2]\n",
    "\n",
    "layout = go.Layout(title = 'Innings wise score of top 10 batsman',\n",
    "                   xaxis = {'title': 'Batsman'},\n",
    "                   yaxis = {'title': 'Runs'},\n",
    "                   barmode='stack')\n",
    "\n",
    "fig = go.Figure(data=data, layout=layout)\n",
    "\n",
    "pyo.plot(fig, filename='Innings wise score of top 10 batsman (Stacked).html')"
   ]
  },
  {
   "cell_type": "markdown",
   "metadata": {},
   "source": [
    "## Nested Bargraph\n",
    "We need not to pass barmode, by default it's stacked."
   ]
  },
  {
   "cell_type": "code",
   "execution_count": 68,
   "metadata": {},
   "outputs": [
    {
     "data": {
      "text/plain": [
       "'Innings wise score of top 10 batsman (Nested).html'"
      ]
     },
     "execution_count": 68,
     "metadata": {},
     "output_type": "execute_result"
    }
   ],
   "source": [
    "trace1 = go.Bar(x=final['batsman'],\n",
    "                y=final['1st Innings'],\n",
    "                name='1st Innings')\n",
    "\n",
    "trace2 = go.Bar(x=final['batsman'],\n",
    "                y=final['2nd Innings'],\n",
    "                name='2nd Innings')\n",
    "\n",
    "data = [trace1, trace2]\n",
    "\n",
    "layout = go.Layout(title = 'Innings wise score of top 10 batsman',\n",
    "                   xaxis = {'title': 'Batsman'},\n",
    "                   yaxis = {'title': 'Runs'},)\n",
    "\n",
    "fig = go.Figure(data=data, layout=layout)\n",
    "\n",
    "pyo.plot(fig, filename='Innings wise score of top 10 batsman (Nested).html')"
   ]
  },
  {
   "cell_type": "markdown",
   "metadata": {},
   "source": [
    "# Bubble Plot\n",
    "<p>Again an extension of Scatter plot. with some additional informations i.e:\n",
    "    1. Introducing 3rd axis with diameter of the point or the circle(3rd column as a paramter)(numerical data).\n",
    "    2. Introducing 4th axis using color.(categorical data).\n",
    "</p>\n",
    "<img src=\"https://www.data-to-viz.com/graph/bubble_files/figure-html/unnamed-chunk-1-1.png\"/>"
   ]
  },
  {
   "cell_type": "code",
   "execution_count": 73,
   "metadata": {},
   "outputs": [
    {
     "data": {
      "text/html": [
       "<div>\n",
       "<style scoped>\n",
       "    .dataframe tbody tr th:only-of-type {\n",
       "        vertical-align: middle;\n",
       "    }\n",
       "\n",
       "    .dataframe tbody tr th {\n",
       "        vertical-align: top;\n",
       "    }\n",
       "\n",
       "    .dataframe thead th {\n",
       "        text-align: right;\n",
       "    }\n",
       "</style>\n",
       "<table border=\"1\" class=\"dataframe\">\n",
       "  <thead>\n",
       "    <tr style=\"text-align: right;\">\n",
       "      <th></th>\n",
       "      <th>batsman</th>\n",
       "      <th>avg</th>\n",
       "      <th>batsman_runs_x</th>\n",
       "      <th>batsman_runs_y</th>\n",
       "    </tr>\n",
       "  </thead>\n",
       "  <tbody>\n",
       "    <tr>\n",
       "      <th>0</th>\n",
       "      <td>AB de Villiers</td>\n",
       "      <td>38.307692</td>\n",
       "      <td>145.129059</td>\n",
       "      <td>158</td>\n",
       "    </tr>\n",
       "    <tr>\n",
       "      <th>1</th>\n",
       "      <td>AC Gilchrist</td>\n",
       "      <td>27.223684</td>\n",
       "      <td>133.054662</td>\n",
       "      <td>92</td>\n",
       "    </tr>\n",
       "    <tr>\n",
       "      <th>2</th>\n",
       "      <td>AJ Finch</td>\n",
       "      <td>27.186441</td>\n",
       "      <td>126.299213</td>\n",
       "      <td>59</td>\n",
       "    </tr>\n",
       "    <tr>\n",
       "      <th>3</th>\n",
       "      <td>AM Rahane</td>\n",
       "      <td>33.593407</td>\n",
       "      <td>117.486549</td>\n",
       "      <td>60</td>\n",
       "    </tr>\n",
       "    <tr>\n",
       "      <th>4</th>\n",
       "      <td>AT Rayudu</td>\n",
       "      <td>27.146067</td>\n",
       "      <td>123.014257</td>\n",
       "      <td>79</td>\n",
       "    </tr>\n",
       "  </tbody>\n",
       "</table>\n",
       "</div>"
      ],
      "text/plain": [
       "          batsman        avg  batsman_runs_x  batsman_runs_y\n",
       "0  AB de Villiers  38.307692      145.129059             158\n",
       "1    AC Gilchrist  27.223684      133.054662              92\n",
       "2        AJ Finch  27.186441      126.299213              59\n",
       "3       AM Rahane  33.593407      117.486549              60\n",
       "4       AT Rayudu  27.146067      123.014257              79"
      ]
     },
     "execution_count": 73,
     "metadata": {},
     "output_type": "execute_result"
    }
   ],
   "source": [
    "new_ipl=new_ipl[new_ipl['batsman_runs']==6]\n",
    "\n",
    "six=new_ipl.groupby('batsman')['batsman_runs'].count().reset_index()\n",
    "\n",
    "x=avg.merge(six,on='batsman')\n",
    "\n",
    "x.head()"
   ]
  },
  {
   "cell_type": "code",
   "execution_count": 79,
   "metadata": {},
   "outputs": [
    {
     "data": {
      "text/plain": [
       "'Bubble Chart.html'"
      ]
     },
     "execution_count": 79,
     "metadata": {},
     "output_type": "execute_result"
    }
   ],
   "source": [
    "# Plot Bubble chart here\n",
    "trace = go.Scatter(x=x['avg'], \n",
    "                   y=x['batsman_runs_x'],\n",
    "                   mode='markers',\n",
    "                   marker={'size': x['batsman_runs_y']})\n",
    "\n",
    "data = [trace]\n",
    "\n",
    "layout = go.Layout(title='Bubble Chart',\n",
    "                   xaxis={'title': 'Average'},\n",
    "                   yaxis={'title': 'Strike Rate'})\n",
    "\n",
    "fig = go.Figure(data=data, layout=layout)\n",
    "\n",
    "pyo.plot(fig, filename='Bubble Chart.html')"
   ]
  },
  {
   "cell_type": "markdown",
   "metadata": {},
   "source": [
    "# Box Plot\n",
    "\n",
    "<p>A box and whisker plot—also called a box plot—displays the five-number summary of a set of data.</p>\n",
    "<img src=\"https://miro.medium.com/max/18000/1*2c21SkzJMf3frPXPAR_gZA.png\"/>"
   ]
  },
  {
   "cell_type": "markdown",
   "metadata": {},
   "source": [
    "### Problem:\n",
    "Plot box plot on Match wise total score"
   ]
  },
  {
   "cell_type": "code",
   "execution_count": 82,
   "metadata": {},
   "outputs": [
    {
     "data": {
      "text/html": [
       "<div>\n",
       "<style scoped>\n",
       "    .dataframe tbody tr th:only-of-type {\n",
       "        vertical-align: middle;\n",
       "    }\n",
       "\n",
       "    .dataframe tbody tr th {\n",
       "        vertical-align: top;\n",
       "    }\n",
       "\n",
       "    .dataframe thead th {\n",
       "        text-align: right;\n",
       "    }\n",
       "</style>\n",
       "<table border=\"1\" class=\"dataframe\">\n",
       "  <thead>\n",
       "    <tr style=\"text-align: right;\">\n",
       "      <th></th>\n",
       "      <th>match_id</th>\n",
       "      <th>total_runs</th>\n",
       "      <th>season</th>\n",
       "    </tr>\n",
       "  </thead>\n",
       "  <tbody>\n",
       "    <tr>\n",
       "      <th>0</th>\n",
       "      <td>1</td>\n",
       "      <td>379</td>\n",
       "      <td>2017</td>\n",
       "    </tr>\n",
       "    <tr>\n",
       "      <th>1</th>\n",
       "      <td>2</td>\n",
       "      <td>371</td>\n",
       "      <td>2017</td>\n",
       "    </tr>\n",
       "    <tr>\n",
       "      <th>2</th>\n",
       "      <td>3</td>\n",
       "      <td>367</td>\n",
       "      <td>2017</td>\n",
       "    </tr>\n",
       "    <tr>\n",
       "      <th>3</th>\n",
       "      <td>4</td>\n",
       "      <td>327</td>\n",
       "      <td>2017</td>\n",
       "    </tr>\n",
       "    <tr>\n",
       "      <th>4</th>\n",
       "      <td>5</td>\n",
       "      <td>299</td>\n",
       "      <td>2017</td>\n",
       "    </tr>\n",
       "    <tr>\n",
       "      <th>...</th>\n",
       "      <td>...</td>\n",
       "      <td>...</td>\n",
       "      <td>...</td>\n",
       "    </tr>\n",
       "    <tr>\n",
       "      <th>631</th>\n",
       "      <td>632</td>\n",
       "      <td>277</td>\n",
       "      <td>2016</td>\n",
       "    </tr>\n",
       "    <tr>\n",
       "      <th>632</th>\n",
       "      <td>633</td>\n",
       "      <td>317</td>\n",
       "      <td>2016</td>\n",
       "    </tr>\n",
       "    <tr>\n",
       "      <th>633</th>\n",
       "      <td>634</td>\n",
       "      <td>302</td>\n",
       "      <td>2016</td>\n",
       "    </tr>\n",
       "    <tr>\n",
       "      <th>634</th>\n",
       "      <td>635</td>\n",
       "      <td>325</td>\n",
       "      <td>2016</td>\n",
       "    </tr>\n",
       "    <tr>\n",
       "      <th>635</th>\n",
       "      <td>636</td>\n",
       "      <td>408</td>\n",
       "      <td>2016</td>\n",
       "    </tr>\n",
       "  </tbody>\n",
       "</table>\n",
       "<p>636 rows × 3 columns</p>\n",
       "</div>"
      ],
      "text/plain": [
       "     match_id  total_runs  season\n",
       "0           1         379    2017\n",
       "1           2         371    2017\n",
       "2           3         367    2017\n",
       "3           4         327    2017\n",
       "4           5         299    2017\n",
       "..        ...         ...     ...\n",
       "631       632         277    2016\n",
       "632       633         317    2016\n",
       "633       634         302    2016\n",
       "634       635         325    2016\n",
       "635       636         408    2016\n",
       "\n",
       "[636 rows x 3 columns]"
      ]
     },
     "execution_count": 82,
     "metadata": {},
     "output_type": "execute_result"
    }
   ],
   "source": [
    "match_agg=delivery.groupby(['match_id'])['total_runs'].sum().reset_index()\n",
    "season_wise=match_agg.merge(match,left_on='match_id',right_on='id')[['match_id','total_runs','season']]\n",
    "season_wise"
   ]
  },
  {
   "cell_type": "code",
   "execution_count": 84,
   "metadata": {},
   "outputs": [
    {
     "data": {
      "text/plain": [
       "'Boxplot.html'"
      ]
     },
     "execution_count": 84,
     "metadata": {},
     "output_type": "execute_result"
    }
   ],
   "source": [
    "# Plot Box Plot here\n",
    "trace = go.Box(x=season_wise['total_runs'], \n",
    "               name='All Seasons')\n",
    "\n",
    "data = [trace]\n",
    "\n",
    "layout = go.Layout(title = 'Total Score Analysis',\n",
    "                   xaxis = {'title': 'Total Score'})\n",
    "\n",
    "fig = go.Figure(data=data, layout=layout)\n",
    "\n",
    "pyo.plot(fig, filename='Boxplot.html')"
   ]
  },
  {
   "cell_type": "markdown",
   "metadata": {},
   "source": [
    "<b>How to change color of box plot.</b>"
   ]
  },
  {
   "cell_type": "code",
   "execution_count": 87,
   "metadata": {},
   "outputs": [
    {
     "data": {
      "text/plain": [
       "'Boxplot.html'"
      ]
     },
     "execution_count": 87,
     "metadata": {},
     "output_type": "execute_result"
    }
   ],
   "source": [
    "# Plot Box Plot here\n",
    "trace = go.Box(x=season_wise['total_runs'], \n",
    "               name='All Seasons',\n",
    "               marker={'color': '#00a65a'})\n",
    "\n",
    "data = [trace]\n",
    "\n",
    "layout = go.Layout(title = 'Total Score Analysis',\n",
    "                   xaxis = {'title': 'Total Score'})\n",
    "\n",
    "fig = go.Figure(data=data, layout=layout)\n",
    "\n",
    "pyo.plot(fig, filename='Boxplot.html')"
   ]
  },
  {
   "cell_type": "markdown",
   "metadata": {},
   "source": [
    "### Two boxplot side by side:\n",
    "1st: 2017 Season\n",
    "\n",
    "2nd: 2008 Season"
   ]
  },
  {
   "cell_type": "code",
   "execution_count": 91,
   "metadata": {},
   "outputs": [
    {
     "data": {
      "text/plain": [
       "'Boxplot.html'"
      ]
     },
     "execution_count": 91,
     "metadata": {},
     "output_type": "execute_result"
    }
   ],
   "source": [
    "trace1 = go.Box(x=season_wise[season_wise['season'] == 2017]['total_runs'], \n",
    "               name='2017',\n",
    "               marker={'color': '#00a65a'})\n",
    "\n",
    "trace2 = go.Box(x=season_wise[season_wise['season'] == 2008]['total_runs'], \n",
    "               name='2008')\n",
    "\n",
    "data = [trace1, trace2]\n",
    "\n",
    "layout = go.Layout(title = 'Total Score Analysis',\n",
    "                   xaxis = {'title': 'Total Score'})\n",
    "\n",
    "fig = go.Figure(data=data, layout=layout)\n",
    "\n",
    "pyo.plot(fig, filename='Boxplot.html')"
   ]
  },
  {
   "cell_type": "markdown",
   "metadata": {},
   "source": [
    "# Histograms\n",
    "\n",
    "<p>A histogram is a plot that lets you discover, and show, the underlying frequency distribution (shape) of a set of continuous data.</p>\n",
    "\n",
    "<img src=\"https://www.math-only-math.com/images/histogram-problems.png\"/>"
   ]
  },
  {
   "cell_type": "code",
   "execution_count": 103,
   "metadata": {},
   "outputs": [
    {
     "data": {
      "text/html": [
       "<div>\n",
       "<style scoped>\n",
       "    .dataframe tbody tr th:only-of-type {\n",
       "        vertical-align: middle;\n",
       "    }\n",
       "\n",
       "    .dataframe tbody tr th {\n",
       "        vertical-align: top;\n",
       "    }\n",
       "\n",
       "    .dataframe thead th {\n",
       "        text-align: right;\n",
       "    }\n",
       "</style>\n",
       "<table border=\"1\" class=\"dataframe\">\n",
       "  <thead>\n",
       "    <tr style=\"text-align: right;\">\n",
       "      <th></th>\n",
       "      <th>batsman</th>\n",
       "      <th>batsman_runs</th>\n",
       "    </tr>\n",
       "  </thead>\n",
       "  <tbody>\n",
       "    <tr>\n",
       "      <th>0</th>\n",
       "      <td>A Ashish Reddy</td>\n",
       "      <td>142.857143</td>\n",
       "    </tr>\n",
       "    <tr>\n",
       "      <th>1</th>\n",
       "      <td>A Mishra</td>\n",
       "      <td>89.756098</td>\n",
       "    </tr>\n",
       "    <tr>\n",
       "      <th>2</th>\n",
       "      <td>A Symonds</td>\n",
       "      <td>124.711908</td>\n",
       "    </tr>\n",
       "    <tr>\n",
       "      <th>3</th>\n",
       "      <td>AA Jhunjhunwala</td>\n",
       "      <td>99.541284</td>\n",
       "    </tr>\n",
       "    <tr>\n",
       "      <th>4</th>\n",
       "      <td>AB Agarkar</td>\n",
       "      <td>111.875000</td>\n",
       "    </tr>\n",
       "  </tbody>\n",
       "</table>\n",
       "</div>"
      ],
      "text/plain": [
       "           batsman  batsman_runs\n",
       "0   A Ashish Reddy    142.857143\n",
       "1         A Mishra     89.756098\n",
       "2        A Symonds    124.711908\n",
       "3  AA Jhunjhunwala     99.541284\n",
       "4       AB Agarkar    111.875000"
      ]
     },
     "execution_count": 103,
     "metadata": {},
     "output_type": "execute_result"
    }
   ],
   "source": [
    "x=delivery.groupby('batsman')['batsman_runs'].count()>150\n",
    "x=x[x].index.tolist()\n",
    "\n",
    "new=delivery[delivery['batsman'].isin(x)]\n",
    "\n",
    "\n",
    "runs=new.groupby('batsman')['batsman_runs'].sum()\n",
    "balls=new.groupby('batsman')['batsman_runs'].count()\n",
    "\n",
    "sr=(runs/balls)*100\n",
    "\n",
    "sr=sr.reset_index()\n",
    "sr.head()"
   ]
  },
  {
   "cell_type": "code",
   "execution_count": 106,
   "metadata": {},
   "outputs": [
    {
     "data": {
      "text/plain": [
       "'temp-plot.html'"
      ]
     },
     "execution_count": 106,
     "metadata": {},
     "output_type": "execute_result"
    }
   ],
   "source": [
    "# Plot Histogram\n",
    "trace = go.Histogram(x=sr['batsman_runs'])\n",
    "\n",
    "data = [trace]\n",
    "\n",
    "layout = go.Layout(title='Strike Rate Analysis',\n",
    "                   xaxis={'title': 'Strike Rates'})\n",
    "\n",
    "fig = go.Figure(data=data, layout=layout)\n",
    "\n",
    "pyo.plot(fig)"
   ]
  },
  {
   "cell_type": "markdown",
   "metadata": {},
   "source": [
    "### How to change binsize?"
   ]
  },
  {
   "cell_type": "code",
   "execution_count": 108,
   "metadata": {},
   "outputs": [
    {
     "data": {
      "text/plain": [
       "'temp-plot.html'"
      ]
     },
     "execution_count": 108,
     "metadata": {},
     "output_type": "execute_result"
    }
   ],
   "source": [
    "# Plot Histogram\n",
    "trace = go.Histogram(x=sr['batsman_runs'], \n",
    "                     xbins={'size': 2})\n",
    "\n",
    "data = [trace]\n",
    "\n",
    "layout = go.Layout(title='Strike Rate Analysis',\n",
    "                   xaxis={'title': 'Strike Rates'})\n",
    "\n",
    "fig = go.Figure(data=data, layout=layout)\n",
    "\n",
    "pyo.plot(fig)"
   ]
  },
  {
   "cell_type": "markdown",
   "metadata": {},
   "source": [
    "### We can also define range of data to be used\n",
    "For example we only need batsman whose strike rate is between 50 and 150"
   ]
  },
  {
   "cell_type": "code",
   "execution_count": 112,
   "metadata": {},
   "outputs": [
    {
     "data": {
      "text/plain": [
       "'temp-plot.html'"
      ]
     },
     "execution_count": 112,
     "metadata": {},
     "output_type": "execute_result"
    }
   ],
   "source": [
    "# Plot Histogram\n",
    "trace = go.Histogram(x=sr['batsman_runs'], \n",
    "                     xbins={'size': 5,\n",
    "                            'start': 50,\n",
    "                            'end': 150})\n",
    "\n",
    "data = [trace]\n",
    "\n",
    "layout = go.Layout(title='Strike Rate Analysis',\n",
    "                   xaxis={'title': 'Strike Rates'})\n",
    "\n",
    "fig = go.Figure(data=data, layout=layout)\n",
    "\n",
    "pyo.plot(fig)"
   ]
  },
  {
   "cell_type": "markdown",
   "metadata": {},
   "source": [
    "\n",
    "# Distplots\n",
    "\n",
    "<p>It is a combination of 3 plots:</p>\n",
    "    1. Histogram\n",
    "    2. KDE\n",
    "    3. Rugplot\n",
    "<img src=\"https://plot.ly/~PythonPlotBot/10/customized-distplot.png\"/>"
   ]
  },
  {
   "cell_type": "code",
   "execution_count": 109,
   "metadata": {},
   "outputs": [
    {
     "data": {
      "text/html": [
       "<div>\n",
       "<style scoped>\n",
       "    .dataframe tbody tr th:only-of-type {\n",
       "        vertical-align: middle;\n",
       "    }\n",
       "\n",
       "    .dataframe tbody tr th {\n",
       "        vertical-align: top;\n",
       "    }\n",
       "\n",
       "    .dataframe thead th {\n",
       "        text-align: right;\n",
       "    }\n",
       "</style>\n",
       "<table border=\"1\" class=\"dataframe\">\n",
       "  <thead>\n",
       "    <tr style=\"text-align: right;\">\n",
       "      <th></th>\n",
       "      <th>batsman</th>\n",
       "      <th>avg</th>\n",
       "      <th>batsman_runs</th>\n",
       "    </tr>\n",
       "  </thead>\n",
       "  <tbody>\n",
       "    <tr>\n",
       "      <th>0</th>\n",
       "      <td>AB de Villiers</td>\n",
       "      <td>38.307692</td>\n",
       "      <td>145.129059</td>\n",
       "    </tr>\n",
       "    <tr>\n",
       "      <th>1</th>\n",
       "      <td>AC Gilchrist</td>\n",
       "      <td>27.223684</td>\n",
       "      <td>133.054662</td>\n",
       "    </tr>\n",
       "    <tr>\n",
       "      <th>2</th>\n",
       "      <td>AJ Finch</td>\n",
       "      <td>27.186441</td>\n",
       "      <td>126.299213</td>\n",
       "    </tr>\n",
       "    <tr>\n",
       "      <th>3</th>\n",
       "      <td>AM Rahane</td>\n",
       "      <td>33.593407</td>\n",
       "      <td>117.486549</td>\n",
       "    </tr>\n",
       "    <tr>\n",
       "      <th>4</th>\n",
       "      <td>AT Rayudu</td>\n",
       "      <td>27.146067</td>\n",
       "      <td>123.014257</td>\n",
       "    </tr>\n",
       "  </tbody>\n",
       "</table>\n",
       "</div>"
      ],
      "text/plain": [
       "          batsman        avg  batsman_runs\n",
       "0  AB de Villiers  38.307692    145.129059\n",
       "1    AC Gilchrist  27.223684    133.054662\n",
       "2        AJ Finch  27.186441    126.299213\n",
       "3       AM Rahane  33.593407    117.486549\n",
       "4       AT Rayudu  27.146067    123.014257"
      ]
     },
     "execution_count": 109,
     "metadata": {},
     "output_type": "execute_result"
    }
   ],
   "source": [
    "import plotly.figure_factory as ff\n",
    "avg.head()"
   ]
  },
  {
   "cell_type": "markdown",
   "metadata": {},
   "source": [
    "### For 1 Column"
   ]
  },
  {
   "cell_type": "code",
   "execution_count": 99,
   "metadata": {},
   "outputs": [
    {
     "data": {
      "text/plain": [
       "'temp-plot.html'"
      ]
     },
     "execution_count": 99,
     "metadata": {},
     "output_type": "execute_result"
    }
   ],
   "source": [
    "hist_data=[avg['avg']]\n",
    "\n",
    "group_labels=['Average']\n",
    "\n",
    "fig=ff.create_distplot(hist_data,\n",
    "                       group_labels)\n",
    "\n",
    "pyo.plot(fig)"
   ]
  },
  {
   "cell_type": "markdown",
   "metadata": {},
   "source": [
    "### For 2 Column"
   ]
  },
  {
   "cell_type": "code",
   "execution_count": 100,
   "metadata": {},
   "outputs": [
    {
     "data": {
      "text/plain": [
       "'temp-plot.html'"
      ]
     },
     "execution_count": 100,
     "metadata": {},
     "output_type": "execute_result"
    }
   ],
   "source": [
    "hist_data=[avg['avg'], \n",
    "           avg['batsman_runs']]\n",
    "\n",
    "group_labels=['Average', \n",
    "              'Strike Rate']\n",
    "\n",
    "fig=ff.create_distplot(hist_data,\n",
    "                       group_labels)\n",
    "\n",
    "pyo.plot(fig)"
   ]
  },
  {
   "cell_type": "markdown",
   "metadata": {},
   "source": [
    "### How to modify binsize"
   ]
  },
  {
   "cell_type": "code",
   "execution_count": 115,
   "metadata": {},
   "outputs": [
    {
     "data": {
      "text/plain": [
       "'temp-plot.html'"
      ]
     },
     "execution_count": 115,
     "metadata": {},
     "output_type": "execute_result"
    }
   ],
   "source": [
    "hist_data=[avg['avg'], \n",
    "           avg['batsman_runs']]\n",
    "\n",
    "group_labels=['Average', \n",
    "              'Strike Rate']\n",
    "\n",
    "fig=ff.create_distplot(hist_data,\n",
    "                       group_labels,\n",
    "                       bin_size=[10,20])\n",
    "\n",
    "pyo.plot(fig)"
   ]
  },
  {
   "cell_type": "markdown",
   "metadata": {},
   "source": [
    "# Heatmaps\n",
    "\n",
    "<p>A heat map is a graphical representation of data where the individual values contained in a matrix are represented as colors.</p>\n",
    "\n",
    "<img src=\"https://seaborn.pydata.org/_images/heatmap_annotation.png\"/>"
   ]
  },
  {
   "cell_type": "code",
   "execution_count": 113,
   "metadata": {},
   "outputs": [
    {
     "data": {
      "text/html": [
       "<div>\n",
       "<style scoped>\n",
       "    .dataframe tbody tr th:only-of-type {\n",
       "        vertical-align: middle;\n",
       "    }\n",
       "\n",
       "    .dataframe tbody tr th {\n",
       "        vertical-align: top;\n",
       "    }\n",
       "\n",
       "    .dataframe thead th {\n",
       "        text-align: right;\n",
       "    }\n",
       "</style>\n",
       "<table border=\"1\" class=\"dataframe\">\n",
       "  <thead>\n",
       "    <tr style=\"text-align: right;\">\n",
       "      <th></th>\n",
       "      <th>batting_team</th>\n",
       "      <th>over</th>\n",
       "      <th>batsman_runs</th>\n",
       "    </tr>\n",
       "  </thead>\n",
       "  <tbody>\n",
       "    <tr>\n",
       "      <th>0</th>\n",
       "      <td>Chennai Super Kings</td>\n",
       "      <td>1</td>\n",
       "      <td>9</td>\n",
       "    </tr>\n",
       "    <tr>\n",
       "      <th>1</th>\n",
       "      <td>Chennai Super Kings</td>\n",
       "      <td>2</td>\n",
       "      <td>21</td>\n",
       "    </tr>\n",
       "    <tr>\n",
       "      <th>2</th>\n",
       "      <td>Chennai Super Kings</td>\n",
       "      <td>3</td>\n",
       "      <td>49</td>\n",
       "    </tr>\n",
       "    <tr>\n",
       "      <th>3</th>\n",
       "      <td>Chennai Super Kings</td>\n",
       "      <td>4</td>\n",
       "      <td>45</td>\n",
       "    </tr>\n",
       "    <tr>\n",
       "      <th>4</th>\n",
       "      <td>Chennai Super Kings</td>\n",
       "      <td>5</td>\n",
       "      <td>53</td>\n",
       "    </tr>\n",
       "  </tbody>\n",
       "</table>\n",
       "</div>"
      ],
      "text/plain": [
       "          batting_team  over  batsman_runs\n",
       "0  Chennai Super Kings     1             9\n",
       "1  Chennai Super Kings     2            21\n",
       "2  Chennai Super Kings     3            49\n",
       "3  Chennai Super Kings     4            45\n",
       "4  Chennai Super Kings     5            53"
      ]
     },
     "execution_count": 113,
     "metadata": {},
     "output_type": "execute_result"
    }
   ],
   "source": [
    "six=delivery[delivery['batsman_runs']==6]\n",
    "six=six.groupby(['batting_team','over'])['batsman_runs'].count().reset_index()\n",
    "\n",
    "six.head()"
   ]
  },
  {
   "cell_type": "code",
   "execution_count": 117,
   "metadata": {},
   "outputs": [
    {
     "data": {
      "text/plain": [
       "'temp-plot.html'"
      ]
     },
     "execution_count": 117,
     "metadata": {},
     "output_type": "execute_result"
    }
   ],
   "source": [
    "# Plot Heatmap\n",
    "\n",
    "trace=go.Heatmap(x=six['batting_team'],\n",
    "                 y=six['over'],\n",
    "                 z=six['batsman_runs'])\n",
    "\n",
    "data=[trace]\n",
    "\n",
    "layout=go.Layout(title='Six Heatmap')\n",
    "\n",
    "fig=go.Figure(data=data, layout=layout)\n",
    "\n",
    "pyo.plot(fig)"
   ]
  },
  {
   "cell_type": "markdown",
   "metadata": {},
   "source": [
    "### Side By Side Heatmap"
   ]
  },
  {
   "cell_type": "code",
   "execution_count": 119,
   "metadata": {},
   "outputs": [
    {
     "name": "stderr",
     "output_type": "stream",
     "text": [
      "/home/ritik/.local/lib/python3.6/site-packages/plotly/tools.py:465: DeprecationWarning:\n",
      "\n",
      "plotly.tools.make_subplots is deprecated, please use plotly.subplots.make_subplots instead\n",
      "\n"
     ]
    },
    {
     "data": {
      "text/plain": [
       "'temp-plot.html'"
      ]
     },
     "execution_count": 119,
     "metadata": {},
     "output_type": "execute_result"
    }
   ],
   "source": [
    "dots=delivery[delivery['batsman_runs']==0]\n",
    "dots=dots.groupby(['batting_team','over'])['batsman_runs'].count().reset_index()\n",
    "\n",
    "from plotly import tools\n",
    "\n",
    "trace1=go.Heatmap(x=six['batting_team'],\n",
    "                  y=six['over'],\n",
    "                  z=six['batsman_runs'].values.tolist())\n",
    "\n",
    "trace2=go.Heatmap(x=dots['batting_team'],\n",
    "                  y=dots['over'],\n",
    "                  z=dots['batsman_runs'].values.tolist())\n",
    "\n",
    "\n",
    "fig=tools.make_subplots(rows=1,\n",
    "                        cols=2,\n",
    "                        subplot_titles=[\"6's\",\"0's\"], \n",
    "                        shared_yaxes=True)\n",
    "\n",
    "fig.append_trace(trace1,1,1)\n",
    "fig.append_trace(trace2,1,2)\n",
    "\n",
    "pyo.plot(fig)\n"
   ]
  }
 ],
 "metadata": {
  "kernelspec": {
   "display_name": "Python 3",
   "language": "python",
   "name": "python3"
  },
  "language_info": {
   "codemirror_mode": {
    "name": "ipython",
    "version": 3
   },
   "file_extension": ".py",
   "mimetype": "text/x-python",
   "name": "python",
   "nbconvert_exporter": "python",
   "pygments_lexer": "ipython3",
   "version": "3.6.9"
  }
 },
 "nbformat": 4,
 "nbformat_minor": 2
}
