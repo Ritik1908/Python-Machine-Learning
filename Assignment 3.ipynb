{
 "cells": [
  {
   "cell_type": "markdown",
   "metadata": {
    "colab_type": "text",
    "id": "21l25vYc2paX"
   },
   "source": [
    "# Pandas Assingment-3\n",
    "\n",
    "(Based on IPL matches and deliveries dataset)\n",
    "\n",
    "\n",
    "<a>https://www.kaggle.com/nowke9/ipldata#matches.csv</a>\n",
    "\n",
    "\n",
    "<a>https://www.kaggle.com/nowke9/ipldata#deliveries.csv<a>"
   ]
  },
  {
   "cell_type": "code",
   "execution_count": 1,
   "metadata": {
    "colab": {},
    "colab_type": "code",
    "id": "o5boB4lw2pae"
   },
   "outputs": [],
   "source": [
    "import pandas as pd\n",
    "import numpy as np"
   ]
  },
  {
   "cell_type": "code",
   "execution_count": 2,
   "metadata": {
    "colab": {
     "base_uri": "https://localhost:8080/",
     "height": 510
    },
    "colab_type": "code",
    "id": "nVdbuPJk27sY",
    "outputId": "bf42e977-6c1d-44da-909a-9db81140ee79"
   },
   "outputs": [],
   "source": [
    "matches = pd.read_csv(\"matches.csv\")\n",
    "delivery = pd.read_csv(\"deliveries.csv\")"
   ]
  },
  {
   "cell_type": "markdown",
   "metadata": {
    "colab_type": "text",
    "id": "Z-GXnX7X2pao"
   },
   "source": [
    "## Q1. Find out a City which has hosted most no. of IPL openers i.e first match of a season."
   ]
  },
  {
   "cell_type": "code",
   "execution_count": 10,
   "metadata": {
    "colab": {},
    "colab_type": "code",
    "id": "giIbK_sw2par"
   },
   "outputs": [
    {
     "name": "stdout",
     "output_type": "stream",
     "text": [
      "City Which Hosted Most No. Of IPL Openers : \n",
      "Chennai hosted 3 matches.\n",
      "Mumbai hosted 3 matches.\n"
     ]
    }
   ],
   "source": [
    "# Solution 1 (Showing Output for multiple cities) :-\n",
    "data = matches.drop_duplicates(subset = ['season'], keep = \"first\") # Only keeping 1st matches of the season\n",
    "data = data['city'].value_counts() # Counting number of matches played in each city\n",
    "maxValue = data.max() # Finding maximum number of matches played in a city\n",
    "cityNames = data[d == mx].index # Storing names of city with most hosted matches\n",
    "print(\"City Which Hosted Most No. Of IPL Openers : \")\n",
    "for i in cityNames :\n",
    "    print(i, \"hosted\",maxValue, \"matches.\")"
   ]
  },
  {
   "cell_type": "code",
   "execution_count": 12,
   "metadata": {
    "colab": {},
    "colab_type": "code",
    "id": "zesbCSlT2paz"
   },
   "outputs": [
    {
     "name": "stdout",
     "output_type": "stream",
     "text": [
      "Chennai hosted 3 matches.\n"
     ]
    }
   ],
   "source": [
    "# Solution 2 (Only Returning 1 city) :-\n",
    "data = matches.drop_duplicates(subset = ['season'], keep = \"first\") # Only keeping 1st matches of the season\n",
    "data = data['city'].value_counts() # Counting number of matches played in each city\n",
    "print(data.index[0], \"hosted\",data.values[0], \"matches.\")"
   ]
  },
  {
   "cell_type": "markdown",
   "metadata": {
    "colab_type": "text",
    "id": "pLOfkHEW2pa8"
   },
   "source": [
    "## Q2. Find out top-3 batsman who has scored most runs against Malinga."
   ]
  },
  {
   "cell_type": "code",
   "execution_count": 21,
   "metadata": {
    "colab": {},
    "colab_type": "code",
    "id": "KXw75NZq2pbA"
   },
   "outputs": [
    {
     "name": "stdout",
     "output_type": "stream",
     "text": [
      "SR Watson scored 127 against Malinga\n",
      "AB de Villiers scored 125 against Malinga\n",
      "MS Dhoni scored 89 against Malinga\n"
     ]
    }
   ],
   "source": [
    "mask = delivery['bowler'] == \"SL Malinga\" # Dealing with rows only with bowler Malinga\n",
    "batsmanAgainstMalinga = delivery[mask].groupby('batsman') # Grouping obtained rows based on batsman\n",
    "prn = batsmanAgainstMalinga['batsman_runs'].sum().sort_values(ascending = False).head(3) # Finding sum of batsman runs and sorting them in descending order.\n",
    "for i,j in zip(prn.index, prn.values) :\n",
    "    print(i,\"scored\",j,\"against Malinga\")"
   ]
  },
  {
   "cell_type": "markdown",
   "metadata": {
    "colab_type": "text",
    "id": "qDLT5Ken2pbS"
   },
   "source": [
    "## Q3. Make a function to find top bowler(in terms of most wickets) against any team. Take input as team."
   ]
  },
  {
   "cell_type": "code",
   "execution_count": 25,
   "metadata": {
    "colab": {},
    "colab_type": "code",
    "id": "xPwQSYFh2pbV"
   },
   "outputs": [
    {
     "name": "stdout",
     "output_type": "stream",
     "text": [
      "DJ Bravo took 31 wickets againt Mumbai Indians in total.\n"
     ]
    }
   ],
   "source": [
    "def topBowler(team) :\n",
    "    mask = delivery['batting_team'] == team # Masking for batting team\n",
    "    data = delivery[mask]\n",
    "    mask2 = data['player_dismissed'].isnull() # Finding rows where no wicket was taken\n",
    "    data2 = data[~mask2] # Negating so that we get rows where wicket was taken\n",
    "    data2 = data2.groupby('bowler').size().sort_values(ascending = False).head(1)\n",
    "    print(data2.index[0],\"took\", data2.values[0],\"wickets againt\",team,\"in total.\")\n",
    "\n",
    "topBowler(\"Mumbai Indians\")"
   ]
  },
  {
   "cell_type": "markdown",
   "metadata": {
    "colab_type": "text",
    "id": "bzxZpvaU2pbn"
   },
   "source": [
    "## Q4. Write a function which will take team name as input and return it's record of no. occurance in finals and no. of times won.  [Difficult]\n",
    "\n",
    "ex.-- if team is CSK-- \n",
    "CSK in finals-\n",
    "\n",
    "Played- 8\n",
    "Won- 3\n",
    "\n",
    "If any team which has not played in finals like Gujrat Lions\n",
    "\n",
    "Gujrat Lions in finals-\n",
    "\n",
    "Played-0\n"
   ]
  },
  {
   "cell_type": "code",
   "execution_count": 31,
   "metadata": {
    "colab": {},
    "colab_type": "code",
    "id": "5GSeUaF22pbp"
   },
   "outputs": [],
   "source": [
    "def record(team) :\n",
    "    data = matches.drop_duplicates('season', keep = \"last\") # Keeping last match of season as it will be final\n",
    "    mask = (data['team1']  == team) | (data['team2'] == team) # Masking where my team played the match\n",
    "    print(team,\"played\",data[mask].shape[0],\"times in finals.\")\n",
    "    mask1 = data['winner'] == team # Masking condition where team won in finals.\n",
    "    print(team,\"won\",data[mask1].shape[0],\"times in finals.\")"
   ]
  },
  {
   "cell_type": "code",
   "execution_count": 33,
   "metadata": {
    "colab": {},
    "colab_type": "code",
    "id": "oAmSieNv2pby"
   },
   "outputs": [
    {
     "name": "stdout",
     "output_type": "stream",
     "text": [
      "Kolkata Knight Riders played 2 times in finals.\n",
      "Kolkata Knight Riders won 2 times in finals.\n"
     ]
    }
   ],
   "source": [
    "record(\"Kolkata Knight Riders\")"
   ]
  },
  {
   "cell_type": "code",
   "execution_count": 34,
   "metadata": {},
   "outputs": [
    {
     "name": "stdout",
     "output_type": "stream",
     "text": [
      "Chennai Super Kings played 8 times in finals.\n",
      "Chennai Super Kings won 3 times in finals.\n"
     ]
    }
   ],
   "source": [
    "record(\"Chennai Super Kings\")"
   ]
  },
  {
   "cell_type": "markdown",
   "metadata": {
    "colab_type": "text",
    "id": "J1MI4hTr2pb5"
   },
   "source": [
    "## Q5. Write a function which will take a input as batsman and in output it gives total runs scored against each team. [Medium]\n",
    "\n",
    "\n"
   ]
  },
  {
   "cell_type": "code",
   "execution_count": 46,
   "metadata": {
    "colab": {},
    "colab_type": "code",
    "id": "xOn0Zt1C2pb7"
   },
   "outputs": [],
   "source": [
    "def batsmanTotalRunsAgaintEachTeam(batsman) :\n",
    "    mask = delivery['batsman'] == batsman # rows where batsman played\n",
    "    data = delivery[mask]\n",
    "    n = data.groupby('bowling_team')['batsman_runs'].sum().sort_values(ascending = False)\n",
    "    print(n)"
   ]
  },
  {
   "cell_type": "code",
   "execution_count": 47,
   "metadata": {
    "colab": {},
    "colab_type": "code",
    "id": "MVeeAa5i2pcB"
   },
   "outputs": [
    {
     "name": "stdout",
     "output_type": "stream",
     "text": [
      "bowling_team\n",
      "Mumbai Indians                 673\n",
      "Kolkata Knight Riders          660\n",
      "Chennai Super Kings            651\n",
      "Kings XI Punjab                638\n",
      "Delhi Daredevils               525\n",
      "Rajasthan Royals               496\n",
      "Royal Challengers Bangalore    483\n",
      "Gujarat Lions                  127\n",
      "Deccan Chargers                118\n",
      "Rising Pune Supergiants         89\n",
      "Pune Warriors                   81\n",
      "Rising Pune Supergiant          49\n",
      "Sunrisers Hyderabad             38\n",
      "Kochi Tuskers Kerala             4\n",
      "Name: batsman_runs, dtype: int64\n"
     ]
    }
   ],
   "source": [
    "batsmanTotalRunsAgaintEachTeam(\"S Dhawan\")"
   ]
  },
  {
   "cell_type": "markdown",
   "metadata": {
    "colab_type": "text",
    "id": "bG5EuKzo2pcH"
   },
   "source": []
  }
 ],
 "metadata": {
  "colab": {
   "name": "Ritik Verma - Pandas_Assingment-3.ipynb",
   "provenance": []
  },
  "kernelspec": {
   "display_name": "Python 3",
   "language": "python",
   "name": "python3"
  },
  "language_info": {
   "codemirror_mode": {
    "name": "ipython",
    "version": 3
   },
   "file_extension": ".py",
   "mimetype": "text/x-python",
   "name": "python",
   "nbconvert_exporter": "python",
   "pygments_lexer": "ipython3",
   "version": "3.6.9"
  }
 },
 "nbformat": 4,
 "nbformat_minor": 1
}
